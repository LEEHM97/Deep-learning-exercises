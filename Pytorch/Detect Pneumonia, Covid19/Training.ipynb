{
 "cells": [
  {
   "cell_type": "markdown",
   "id": "6187eb12",
   "metadata": {},
   "source": [
    "# 흉부 X-ray 이미지로 정상/코로나/폐렴을 분류하는 Image Classification "
   ]
  },
  {
   "cell_type": "code",
   "execution_count": null,
   "id": "e5f5d3b1",
   "metadata": {},
   "outputs": [],
   "source": [
    "# Overview\n",
    "# Classification 소개와 적용사례, CNN를 사용하는 이유\n",
    "# Covid chest x-ray 데이터셋 소개 및 탐색, 문제정의\n",
    "# 데이터셋 구축과 연산을 위한 텐서변환 적용해보기\n",
    "# 대표적인 classifier 소개와 아키텍처 불러오기\n",
    "# 순전파, 역전파 설명과 손실함수 불러오기\n",
    "# classifier 학습을 위한 코드작성해보기\n",
    "# 검증을 위한 지표 소개 및 적용해보기\n",
    "# 학습한 모델을 실제로 테스트해보기\n",
    "# Summary"
   ]
  },
  {
   "cell_type": "markdown",
   "id": "6699999d",
   "metadata": {},
   "source": [
    "## 1. 라이브러리 불러오기"
   ]
  },
  {
   "cell_type": "code",
   "execution_count": 1,
   "id": "b2d6049a",
   "metadata": {},
   "outputs": [],
   "source": [
    "import os\n",
    "import copy\n",
    "import random\n",
    "\n",
    "import cv2\n",
    "import torch\n",
    "import numpy as np\n",
    "from torch import nn\n",
    "from torchvision import transforms, models\n",
    "from torch.utils.data import Dataset, DataLoader\n",
    "import matplotlib.pyplot as plt\n",
    "from ipywidgets import interact\n",
    "\n",
    "random_seed = 2022\n",
    "\n",
    "random.seed(random_seed)\n",
    "np.random.seed(random_seed)\n",
    "torch.manual_seed(random_seed)\n",
    "torch.cuda.manual_seed(random_seed)\n",
    "torch.backends.cudnn.deterministic = True\n",
    "torch.backends.cudnn.benchmark = False"
   ]
  },
  {
   "cell_type": "markdown",
   "id": "a0cfa5ed",
   "metadata": {},
   "source": [
    "## 2. 이미지 파일경로 불러오기"
   ]
  },
  {
   "cell_type": "code",
   "execution_count": 2,
   "id": "aab11547",
   "metadata": {},
   "outputs": [],
   "source": [
    "def list_image_files(data_dir, sub_dir):\n",
    "    image_format = [\"jpeg\", \"jpg\", \"png\"]\n",
    "    \n",
    "    image_files = []\n",
    "    images_dir = os.path.join(data_dir, sub_dir)\n",
    "    for file_path in os.listdir(images_dir):\n",
    "        if file_path.split(\".\")[-1] in image_format:\n",
    "            image_files.append(os.path.join(sub_dir, file_path))\n",
    "    return image_files"
   ]
  },
  {
   "cell_type": "code",
   "execution_count": 3,
   "id": "913714d7",
   "metadata": {},
   "outputs": [
    {
     "name": "stdout",
     "output_type": "stream",
     "text": [
      "Normal:70, Covid:111, pneumonias:70\n"
     ]
    }
   ],
   "source": [
    "data_dir = \"../DATASET/Classification/train/\"\n",
    "\n",
    "normals_list = list_image_files(data_dir, \"Normal\")\n",
    "covids_list = list_image_files(data_dir, \"Covid\")\n",
    "pneumonias_list = list_image_files(data_dir, \"Viral Pneumonia\")\n",
    "\n",
    "print(f\"Normal:{len(normals_list)}, Covid:{len(covids_list)}, pneumonias:{len(pneumonias_list)}\")"
   ]
  },
  {
   "cell_type": "markdown",
   "id": "41543d03",
   "metadata": {},
   "source": [
    "## 3. 이미지파일을 RGB 3차원 배열로 불러오기"
   ]
  },
  {
   "cell_type": "code",
   "execution_count": 4,
   "id": "42378c11",
   "metadata": {},
   "outputs": [],
   "source": [
    "def get_RGB_image(data_dir, file_name):\n",
    "    image_file = os.path.join(data_dir, file_name)\n",
    "    image = cv2.imread(image_file)\n",
    "    image = cv2.cvtColor(image, cv2.COLOR_BGR2RGB)\n",
    "    return image"
   ]
  },
  {
   "cell_type": "markdown",
   "id": "1ab0b008",
   "metadata": {},
   "source": [
    "## 4. 이미지데이터 확인하기"
   ]
  },
  {
   "cell_type": "code",
   "execution_count": 5,
   "id": "2ee151f2",
   "metadata": {},
   "outputs": [
    {
     "data": {
      "application/vnd.jupyter.widget-view+json": {
       "model_id": "e65c93af5f8c4aa1bc5ba5ae6424b552",
       "version_major": 2,
       "version_minor": 0
      },
      "text/plain": [
       "interactive(children=(IntSlider(value=0, description='index', max=69), Output()), _dom_classes=('widget-intera…"
      ]
     },
     "metadata": {},
     "output_type": "display_data"
    }
   ],
   "source": [
    "min_num_files = min(len(normals_list), len(covids_list), len(pneumonias_list))\n",
    "\n",
    "@interact(index=(0, min_num_files-1))\n",
    "def show_samples(index=0):\n",
    "    normal_image = get_RGB_image(data_dir, normals_list[index])\n",
    "    covid_image = get_RGB_image(data_dir, covids_list[index])\n",
    "    pneumonia_image = get_RGB_image(data_dir, pneumonias_list[index])\n",
    "    \n",
    "    plt.figure(figsize=(12, 8))\n",
    "    plt.subplot(131)\n",
    "    plt.title(\"Normal\")\n",
    "    plt.imshow(normal_image)\n",
    "    plt.subplot(132)\n",
    "    plt.title(\"Covid\")\n",
    "    plt.imshow(covid_image)\n",
    "    plt.subplot(133)\n",
    "    plt.title(\"Pneumonia\")\n",
    "    plt.imshow(pneumonia_image)\n",
    "    plt.tight_layout()"
   ]
  },
  {
   "cell_type": "markdown",
   "id": "8c7ee974",
   "metadata": {},
   "source": [
    "# ---"
   ]
  },
  {
   "cell_type": "markdown",
   "id": "9dac95bc",
   "metadata": {},
   "source": [
    "## 5. 학습데이터셋 클래스 구축"
   ]
  },
  {
   "cell_type": "code",
   "execution_count": 6,
   "id": "1eb35899",
   "metadata": {},
   "outputs": [],
   "source": [
    "train_data_dir = \"../DATASET/Classification/train/\"\n",
    "class_list = [\"Normal\", \"Covid\", \"Viral Pneumonia\"]"
   ]
  },
  {
   "cell_type": "code",
   "execution_count": 7,
   "id": "e8e538f6",
   "metadata": {},
   "outputs": [],
   "source": [
    "class Chest_dataset(Dataset):\n",
    "    def __init__(self, data_dir, transform=None):\n",
    "        self.data_dir = data_dir\n",
    "        normals = list_image_files(data_dir, \"Normal\")\n",
    "        covids = list_image_files(data_dir, \"Covid\")\n",
    "        pneumonias = list_image_files(data_dir, \"Viral Pneumonia\")\n",
    "        \n",
    "        self.files_path = normals + covids + pneumonias\n",
    "        self.transform = transform\n",
    "        \n",
    "    def __len__(self):\n",
    "        return len(self.files_path)\n",
    "    \n",
    "    def __getitem__(self, index):\n",
    "        image_file = os.path.join(self.data_dir, self.files_path[index])\n",
    "        image = cv2.imread(image_file)\n",
    "        image = cv2.cvtColor(image, cv2.COLOR_BGR2RGB)\n",
    "        \n",
    "        target = class_list.index(self.files_path[index].split(os.sep)[-2])\n",
    "         \n",
    "        target = class_list.index(self.files_path[index].split(os.sep)[0])\n",
    "        \n",
    "        if self.transform:\n",
    "            image = self.transform(image)\n",
    "            target = torch.Tensor([target]).long()\n",
    "            \n",
    "        return {\"image\":image, \"target\":target}"
   ]
  },
  {
   "cell_type": "code",
   "execution_count": 8,
   "id": "9d37807f",
   "metadata": {},
   "outputs": [],
   "source": [
    "dset = Chest_dataset(train_data_dir)"
   ]
  },
  {
   "cell_type": "code",
   "execution_count": 9,
   "id": "fd9d9ba8",
   "metadata": {},
   "outputs": [
    {
     "data": {
      "text/plain": [
       "<matplotlib.image.AxesImage at 0x20e433b54f0>"
      ]
     },
     "execution_count": 9,
     "metadata": {},
     "output_type": "execute_result"
    },
    {
     "data": {
      "image/png": "[encoded data removed]",
      "text/plain": [
       "<Figure size 432x288 with 1 Axes>"
      ]
     },
     "metadata": {
      "needs_background": "light"
     },
     "output_type": "display_data"
    }
   ],
   "source": [
    "index = 200\n",
    "plt.title(class_list[dset[index][\"target\"]])\n",
    "plt.imshow(dset[index][\"image\"])"
   ]
  },
  {
   "cell_type": "markdown",
   "id": "b691fd68",
   "metadata": {},
   "source": [
    "## 6. 배열을 연산가능한 텐서로 변환하기"
   ]
  },
  {
   "cell_type": "code",
   "execution_count": 10,
   "id": "6d559d2f",
   "metadata": {},
   "outputs": [],
   "source": [
    "transformer = transforms.Compose([\n",
    "    transforms.ToTensor(),\n",
    "    transforms.Resize((224, 224)),\n",
    "    transforms.Normalize(mean=[0.5, 0.5, 0.5],\n",
    "                         std=[0.5, 0.5, 0.5]) # RGB : 0.5, 0.5, .05\n",
    "])"
   ]
  },
  {
   "cell_type": "code",
   "execution_count": 11,
   "id": "b74a3e01",
   "metadata": {},
   "outputs": [],
   "source": [
    "train_dset = Chest_dataset(train_data_dir, transformer)"
   ]
  },
  {
   "cell_type": "code",
   "execution_count": 12,
   "id": "6c96dd14",
   "metadata": {},
   "outputs": [
    {
     "name": "stdout",
     "output_type": "stream",
     "text": [
      "(1024, 1336, 3) 2\n"
     ]
    }
   ],
   "source": [
    "# without transformer\n",
    "\n",
    "index = 200\n",
    "image = dset[index][\"image\"]\n",
    "label = dset[index][\"target\"]\n",
    "print(image.shape, label)\n"
   ]
  },
  {
   "cell_type": "code",
   "execution_count": 13,
   "id": "94b81584",
   "metadata": {},
   "outputs": [
    {
     "name": "stdout",
     "output_type": "stream",
     "text": [
      "torch.Size([3, 224, 224]) tensor([2])\n"
     ]
    }
   ],
   "source": [
    "# with transformer\n",
    "\n",
    "index = 200\n",
    "image = train_dset[index][\"image\"]\n",
    "label = train_dset[index][\"target\"]\n",
    "print(image.shape, label)"
   ]
  },
  {
   "cell_type": "markdown",
   "id": "837cd8f1",
   "metadata": {},
   "source": [
    "## 7. 데이터로더 구현하기"
   ]
  },
  {
   "cell_type": "code",
   "execution_count": 14,
   "id": "399c516d",
   "metadata": {},
   "outputs": [],
   "source": [
    "def build_dataloader(train_data_dir, val_data_dir):\n",
    "    dataloaders = {}\n",
    "    train_dset = Chest_dataset(train_data_dir, transformer)\n",
    "    dataloaders[\"train\"] = DataLoader(train_dset, batch_size=4, shuffle=True, drop_last=True)\n",
    "\n",
    "    val_dset = Chest_dataset(val_data_dir, transformer)\n",
    "    dataloaders[\"val\"] = DataLoader(val_dset, batch_size=1, shuffle=False, drop_last=False)\n",
    "    return dataloaders"
   ]
  },
  {
   "cell_type": "code",
   "execution_count": 15,
   "id": "b9757f6a",
   "metadata": {},
   "outputs": [
    {
     "data": {
      "text/plain": [
       "{'train': <torch.utils.data.dataloader.DataLoader at 0x20e480ca760>,\n",
       " 'val': <torch.utils.data.dataloader.DataLoader at 0x20e480f5160>}"
      ]
     },
     "execution_count": 15,
     "metadata": {},
     "output_type": "execute_result"
    }
   ],
   "source": [
    "train_data_dir = \"../DATASET/Classification/train/\"\n",
    "val_data_dir = \"../DATASET/Classification/test/\"\n",
    "dataloaders = build_dataloader(train_data_dir, val_data_dir)\n",
    "dataloaders"
   ]
  },
  {
   "cell_type": "code",
   "execution_count": 16,
   "id": "0ca827f3",
   "metadata": {},
   "outputs": [],
   "source": [
    "for i, d in enumerate(dataloaders[\"train\"]):\n",
    "    if i == 0:\n",
    "        break"
   ]
  },
  {
   "cell_type": "code",
   "execution_count": 17,
   "id": "1e2cc1eb",
   "metadata": {},
   "outputs": [
    {
     "data": {
      "text/plain": [
       "torch.Size([4, 1])"
      ]
     },
     "execution_count": 17,
     "metadata": {},
     "output_type": "execute_result"
    }
   ],
   "source": [
    "d[\"target\"].shape"
   ]
  },
  {
   "cell_type": "code",
   "execution_count": 18,
   "id": "bbd75333",
   "metadata": {},
   "outputs": [
    {
     "data": {
      "text/plain": [
       "tensor([1, 2, 2, 1])"
      ]
     },
     "execution_count": 18,
     "metadata": {},
     "output_type": "execute_result"
    }
   ],
   "source": [
    "d[\"target\"].squeeze()"
   ]
  },
  {
   "cell_type": "markdown",
   "id": "7ce8200e",
   "metadata": {},
   "source": [
    "# ---"
   ]
  },
  {
   "cell_type": "markdown",
   "id": "79ec7f2a",
   "metadata": {},
   "source": [
    "## 8. Classification 모델(VGG19) 불러오기"
   ]
  },
  {
   "cell_type": "code",
   "execution_count": 29,
   "id": "12f7b83c",
   "metadata": {},
   "outputs": [],
   "source": [
    "model = models.vgg19(pretrained=True)"
   ]
  },
  {
   "cell_type": "code",
   "execution_count": 33,
   "id": "afc3f300",
   "metadata": {
    "scrolled": true
   },
   "outputs": [
    {
     "name": "stdout",
     "output_type": "stream",
     "text": [
      "----------------------------------------------------------------\n",
      "        Layer (type)               Output Shape         Param #\n",
      "================================================================\n",
      "            Conv2d-1          [1, 64, 224, 224]           1,792\n",
      "              ReLU-2          [1, 64, 224, 224]               0\n",
      "            Conv2d-3          [1, 64, 224, 224]          36,928\n",
      "              ReLU-4          [1, 64, 224, 224]               0\n",
      "         MaxPool2d-5          [1, 64, 112, 112]               0\n",
      "            Conv2d-6         [1, 128, 112, 112]          73,856\n",
      "              ReLU-7         [1, 128, 112, 112]               0\n",
      "            Conv2d-8         [1, 128, 112, 112]         147,584\n",
      "              ReLU-9         [1, 128, 112, 112]               0\n",
      "        MaxPool2d-10           [1, 128, 56, 56]               0\n",
      "           Conv2d-11           [1, 256, 56, 56]         295,168\n",
      "             ReLU-12           [1, 256, 56, 56]               0\n",
      "           Conv2d-13           [1, 256, 56, 56]         590,080\n",
      "             ReLU-14           [1, 256, 56, 56]               0\n",
      "           Conv2d-15           [1, 256, 56, 56]         590,080\n",
      "             ReLU-16           [1, 256, 56, 56]               0\n",
      "           Conv2d-17           [1, 256, 56, 56]         590,080\n",
      "             ReLU-18           [1, 256, 56, 56]               0\n",
      "        MaxPool2d-19           [1, 256, 28, 28]               0\n",
      "           Conv2d-20           [1, 512, 28, 28]       1,180,160\n",
      "             ReLU-21           [1, 512, 28, 28]               0\n",
      "           Conv2d-22           [1, 512, 28, 28]       2,359,808\n",
      "             ReLU-23           [1, 512, 28, 28]               0\n",
      "           Conv2d-24           [1, 512, 28, 28]       2,359,808\n",
      "             ReLU-25           [1, 512, 28, 28]               0\n",
      "           Conv2d-26           [1, 512, 28, 28]       2,359,808\n",
      "             ReLU-27           [1, 512, 28, 28]               0\n",
      "        MaxPool2d-28           [1, 512, 14, 14]               0\n",
      "           Conv2d-29           [1, 512, 14, 14]       2,359,808\n",
      "             ReLU-30           [1, 512, 14, 14]               0\n",
      "           Conv2d-31           [1, 512, 14, 14]       2,359,808\n",
      "             ReLU-32           [1, 512, 14, 14]               0\n",
      "           Conv2d-33           [1, 512, 14, 14]       2,359,808\n",
      "             ReLU-34           [1, 512, 14, 14]               0\n",
      "           Conv2d-35           [1, 512, 14, 14]       2,359,808\n",
      "             ReLU-36           [1, 512, 14, 14]               0\n",
      "        MaxPool2d-37             [1, 512, 7, 7]               0\n",
      "AdaptiveAvgPool2d-38             [1, 512, 7, 7]               0\n",
      "           Linear-39                  [1, 4096]     102,764,544\n",
      "             ReLU-40                  [1, 4096]               0\n",
      "          Dropout-41                  [1, 4096]               0\n",
      "           Linear-42                  [1, 4096]      16,781,312\n",
      "             ReLU-43                  [1, 4096]               0\n",
      "          Dropout-44                  [1, 4096]               0\n",
      "           Linear-45                  [1, 1000]       4,097,000\n",
      "================================================================\n",
      "Total params: 143,667,240\n",
      "Trainable params: 143,667,240\n",
      "Non-trainable params: 0\n",
      "----------------------------------------------------------------\n",
      "Input size (MB): 0.57\n",
      "Forward/backward pass size (MB): 238.69\n",
      "Params size (MB): 548.05\n",
      "Estimated Total Size (MB): 787.31\n",
      "----------------------------------------------------------------\n"
     ]
    }
   ],
   "source": [
    "from torchsummary import summary\n",
    "summary(model, (3, 224, 224), batch_size=1, device=\"cpu\")"
   ]
  },
  {
   "cell_type": "markdown",
   "id": "84abcab2",
   "metadata": {},
   "source": [
    "## 9. 데이터에 맞도록 모델 Head 부분 변경하기"
   ]
  },
  {
   "cell_type": "code",
   "execution_count": 34,
   "id": "3dcd9db1",
   "metadata": {},
   "outputs": [],
   "source": [
    "model.avgpool = nn.AdaptiveAvgPool2d(output_size=(1,1)) # (1,1)로 데이터 pooling 실행\n",
    "model.classifier = nn.Sequential(\n",
    "    nn.Flatten(),\n",
    "    nn.Linear(512, 256),\n",
    "    nn.ReLU(),\n",
    "    # nn.Dropout(0.1),\n",
    "    nn.Linear(256, len(class_list)),\n",
    "    nn.Softmax(),\n",
    ")"
   ]
  },
  {
   "cell_type": "code",
   "execution_count": 35,
   "id": "2d1aa26f",
   "metadata": {},
   "outputs": [],
   "source": [
    "def build_vgg19_based_model(device_name='cuda'):\n",
    "    device = torch.device(device_name)\n",
    "    model = models.vgg19(pretrained=True)\n",
    "    model.avgpool = nn.AdaptiveAvgPool2d(output_size=(1,1))\n",
    "    model.classifier = nn.Sequential(\n",
    "        nn.Flatten(),\n",
    "        nn.Linear(512, 256),\n",
    "        nn.ReLU(),\n",
    "        nn.Linear(256, len(class_list)),\n",
    "        nn.Softmax(dim=1)\n",
    "    )\n",
    "    return model.to(device)"
   ]
  },
  {
   "cell_type": "code",
   "execution_count": 36,
   "id": "77177ddf",
   "metadata": {},
   "outputs": [],
   "source": [
    "model = build_vgg19_based_model(device_name='cuda')"
   ]
  },
  {
   "cell_type": "code",
   "execution_count": 37,
   "id": "f8c8ab57",
   "metadata": {
    "scrolled": true
   },
   "outputs": [
    {
     "name": "stdout",
     "output_type": "stream",
     "text": [
      "----------------------------------------------------------------\n",
      "        Layer (type)               Output Shape         Param #\n",
      "================================================================\n",
      "            Conv2d-1          [1, 64, 224, 224]           1,792\n",
      "              ReLU-2          [1, 64, 224, 224]               0\n",
      "            Conv2d-3          [1, 64, 224, 224]          36,928\n",
      "              ReLU-4          [1, 64, 224, 224]               0\n",
      "         MaxPool2d-5          [1, 64, 112, 112]               0\n",
      "            Conv2d-6         [1, 128, 112, 112]          73,856\n",
      "              ReLU-7         [1, 128, 112, 112]               0\n",
      "            Conv2d-8         [1, 128, 112, 112]         147,584\n",
      "              ReLU-9         [1, 128, 112, 112]               0\n",
      "        MaxPool2d-10           [1, 128, 56, 56]               0\n",
      "           Conv2d-11           [1, 256, 56, 56]         295,168\n",
      "             ReLU-12           [1, 256, 56, 56]               0\n",
      "           Conv2d-13           [1, 256, 56, 56]         590,080\n",
      "             ReLU-14           [1, 256, 56, 56]               0\n",
      "           Conv2d-15           [1, 256, 56, 56]         590,080\n",
      "             ReLU-16           [1, 256, 56, 56]               0\n",
      "           Conv2d-17           [1, 256, 56, 56]         590,080\n",
      "             ReLU-18           [1, 256, 56, 56]               0\n",
      "        MaxPool2d-19           [1, 256, 28, 28]               0\n",
      "           Conv2d-20           [1, 512, 28, 28]       1,180,160\n",
      "             ReLU-21           [1, 512, 28, 28]               0\n",
      "           Conv2d-22           [1, 512, 28, 28]       2,359,808\n",
      "             ReLU-23           [1, 512, 28, 28]               0\n",
      "           Conv2d-24           [1, 512, 28, 28]       2,359,808\n",
      "             ReLU-25           [1, 512, 28, 28]               0\n",
      "           Conv2d-26           [1, 512, 28, 28]       2,359,808\n",
      "             ReLU-27           [1, 512, 28, 28]               0\n",
      "        MaxPool2d-28           [1, 512, 14, 14]               0\n",
      "           Conv2d-29           [1, 512, 14, 14]       2,359,808\n",
      "             ReLU-30           [1, 512, 14, 14]               0\n",
      "           Conv2d-31           [1, 512, 14, 14]       2,359,808\n",
      "             ReLU-32           [1, 512, 14, 14]               0\n",
      "           Conv2d-33           [1, 512, 14, 14]       2,359,808\n",
      "             ReLU-34           [1, 512, 14, 14]               0\n",
      "           Conv2d-35           [1, 512, 14, 14]       2,359,808\n",
      "             ReLU-36           [1, 512, 14, 14]               0\n",
      "        MaxPool2d-37             [1, 512, 7, 7]               0\n",
      "AdaptiveAvgPool2d-38             [1, 512, 1, 1]               0\n",
      "          Flatten-39                   [1, 512]               0\n",
      "           Linear-40                   [1, 256]         131,328\n",
      "             ReLU-41                   [1, 256]               0\n",
      "           Linear-42                     [1, 3]             771\n",
      "          Softmax-43                     [1, 3]               0\n",
      "================================================================\n",
      "Total params: 20,156,483\n",
      "Trainable params: 20,156,483\n",
      "Non-trainable params: 0\n",
      "----------------------------------------------------------------\n",
      "Input size (MB): 0.57\n",
      "Forward/backward pass size (MB): 238.31\n",
      "Params size (MB): 76.89\n",
      "Estimated Total Size (MB): 315.78\n",
      "----------------------------------------------------------------\n"
     ]
    }
   ],
   "source": [
    "from torchsummary import summary\n",
    "summary(model, (3, 224, 224), batch_size=1, device=\"cuda\")"
   ]
  },
  {
   "cell_type": "markdown",
   "id": "fe2c0876",
   "metadata": {},
   "source": [
    "# ---"
   ]
  },
  {
   "cell_type": "markdown",
   "id": "311b42c8",
   "metadata": {},
   "source": [
    "## 10. 손실함수 불러오기"
   ]
  },
  {
   "cell_type": "code",
   "execution_count": 38,
   "id": "58d3c5e3",
   "metadata": {},
   "outputs": [],
   "source": [
    "# reduction: mini batch 개수에 대한 평균을 구해서 return\n",
    "\n",
    "loss_func = nn.CrossEntropyLoss(reduction=\"mean\")"
   ]
  },
  {
   "cell_type": "markdown",
   "id": "35003129",
   "metadata": {},
   "source": [
    "## 11. Gradient 최적화 함수 불러오기"
   ]
  },
  {
   "cell_type": "code",
   "execution_count": 39,
   "id": "7fd14bd9",
   "metadata": {},
   "outputs": [],
   "source": [
    "optimizer = torch.optim.SGD(model.parameters(), lr= 1e-3, momentum=0.9)"
   ]
  },
  {
   "cell_type": "markdown",
   "id": "81f4bc93",
   "metadata": {},
   "source": [
    "# ---"
   ]
  },
  {
   "cell_type": "markdown",
   "id": "4520d7ad",
   "metadata": {},
   "source": [
    "## 12. 모델 검증을 위한 Accuracy 생성하기"
   ]
  },
  {
   "cell_type": "code",
   "execution_count": 47,
   "id": "cf6b19fa",
   "metadata": {},
   "outputs": [],
   "source": [
    "@torch.no_grad()\n",
    "def get_accuracy(image, target, model):\n",
    "    batch_size = image.shape[0]\n",
    "    prediction = model(image)  # (B, NUM_CLASSES) -> [B,0]: 0.1, [B,1]: 0.1, [B,2]: 0.7\n",
    "    _, pred_label = torch.max(prediction, dim=1)  # [B,1] -> pred_label: 1\n",
    "    is_correct = (pred_label == target)\n",
    "    return is_correct.cpu().numpy().sum() / batch_size"
   ]
  },
  {
   "cell_type": "markdown",
   "id": "93c74d1a",
   "metadata": {},
   "source": [
    "# ---"
   ]
  },
  {
   "cell_type": "markdown",
   "id": "509ace86",
   "metadata": {},
   "source": [
    "## 13. 모델 학습을 위한 함수 구현하기"
   ]
  },
  {
   "cell_type": "code",
   "execution_count": 48,
   "id": "22c8de22",
   "metadata": {},
   "outputs": [],
   "source": [
    "device = torch.device(\"cuda\")"
   ]
  },
  {
   "cell_type": "code",
   "execution_count": 49,
   "id": "c53f7b9e",
   "metadata": {},
   "outputs": [],
   "source": [
    "def train_one_epoch(dataloaders, model, optimizer, loss_func, device):\n",
    "    losses = {}\n",
    "    accuracies = {}\n",
    "    for phase in [\"train\", \"val\"]:\n",
    "        \n",
    "        running_loss = 0.0\n",
    "        running_correct = 0\n",
    "        \n",
    "        if phase == \"train\":\n",
    "            model.train()\n",
    "        else:\n",
    "            model.eval()\n",
    "        \n",
    "        for index, batch in enumerate(dataloaders[phase]):\n",
    "            image = batch[\"image\"].to(device)\n",
    "            target = batch[\"target\"].squeeze(1).to(device)\n",
    "            \n",
    "            optimizer.zero_grad()\n",
    "\n",
    "            with torch.set_grad_enabled(phase == \"train\"):\n",
    "                prediction = model(image)\n",
    "                loss = loss_func(prediction, target)\n",
    "                \n",
    "                if phase == \"train\":\n",
    "                    loss.backward()\n",
    "                    optimizer.step()\n",
    "            \n",
    "            running_loss += loss.item()\n",
    "            running_correct += get_accuracy(image, target, model)\n",
    "            \n",
    "            if phase == \"train\":\n",
    "                if index % 10 == 0:\n",
    "                    print(f\"{index}/{len(dataloaders[phase])} - Running Loss: {loss.item()}\")\n",
    "\n",
    "        losses[phase] = running_loss / len(dataloaders[phase])\n",
    "        accuracies[phase] = running_correct / len(dataloaders[phase])\n",
    "    return losses, accuracies"
   ]
  },
  {
   "cell_type": "code",
   "execution_count": 50,
   "id": "43a7fffb",
   "metadata": {},
   "outputs": [],
   "source": [
    "def save_best_model(model_state, model_name, save_dir=\"./trained_model\"):\n",
    "    os.makedirs(save_dir, exist_ok=True)\n",
    "    torch.save(model_state, os.path.join(save_dir, model_name))"
   ]
  },
  {
   "cell_type": "markdown",
   "id": "11369f0e",
   "metadata": {},
   "source": [
    "## 14. 모델 학습 수행하기"
   ]
  },
  {
   "cell_type": "code",
   "execution_count": 51,
   "id": "acbf27f9",
   "metadata": {},
   "outputs": [],
   "source": [
    "device = torch.device(\"cuda\")\n",
    "\n",
    "train_data_dir = \"../DATASET/Classification/train/\"\n",
    "val_data_dir = \"../DATASET/Classification/test/\"\n",
    "\n",
    "dataloaders = build_dataloader(train_data_dir, val_data_dir)\n",
    "model = build_vgg19_based_model(device_name='cuda')\n",
    "loss_func = nn.CrossEntropyLoss(reduction=\"mean\")\n",
    "optimizer = torch.optim.SGD(model.parameters(), lr= 1e-3, momentum=0.9)"
   ]
  },
  {
   "cell_type": "code",
   "execution_count": 52,
   "id": "7e34bc3a",
   "metadata": {
    "scrolled": true
   },
   "outputs": [
    {
     "name": "stdout",
     "output_type": "stream",
     "text": [
      "0/62 - Running Loss: 1.1159489154815674\n",
      "10/62 - Running Loss: 1.1047616004943848\n",
      "20/62 - Running Loss: 1.0900708436965942\n",
      "30/62 - Running Loss: 1.0918688774108887\n",
      "40/62 - Running Loss: 1.0529496669769287\n",
      "50/62 - Running Loss: 1.0030574798583984\n",
      "60/62 - Running Loss: 1.185700535774231\n",
      "1/10-Train Loss: 1.0769562365547303, Val Loss: 1.0262889789812493\n",
      "1/10-Train Acc: 0.4314516129032258, Val Acc: 0.45454545454545453\n",
      "0/62 - Running Loss: 0.9641876816749573\n",
      "10/62 - Running Loss: 0.9104188084602356\n",
      "20/62 - Running Loss: 0.9597246050834656\n",
      "30/62 - Running Loss: 1.072425365447998\n",
      "40/62 - Running Loss: 0.6692644357681274\n",
      "50/62 - Running Loss: 0.845720648765564\n",
      "60/62 - Running Loss: 0.8204576969146729\n",
      "2/10-Train Loss: 0.8803254885058249, Val Loss: 0.8644496310840953\n",
      "2/10-Train Acc: 0.6935483870967742, Val Acc: 0.696969696969697\n",
      "0/62 - Running Loss: 0.9303432106971741\n",
      "10/62 - Running Loss: 0.834624171257019\n",
      "20/62 - Running Loss: 0.8191774487495422\n",
      "30/62 - Running Loss: 0.7310751676559448\n",
      "40/62 - Running Loss: 0.7553420066833496\n",
      "50/62 - Running Loss: 0.7159602642059326\n",
      "60/62 - Running Loss: 0.5842509269714355\n",
      "3/10-Train Loss: 0.745009139660866, Val Loss: 0.833902819590135\n",
      "3/10-Train Acc: 0.8548387096774194, Val Acc: 0.6818181818181818\n",
      "0/62 - Running Loss: 0.5738634467124939\n",
      "10/62 - Running Loss: 0.7374741435050964\n",
      "20/62 - Running Loss: 0.578013002872467\n",
      "30/62 - Running Loss: 0.6105775237083435\n",
      "40/62 - Running Loss: 0.7781893014907837\n",
      "50/62 - Running Loss: 0.6887989044189453\n",
      "60/62 - Running Loss: 0.5520765781402588\n",
      "4/10-Train Loss: 0.6474498260405755, Val Loss: 0.7587459936286464\n",
      "4/10-Train Acc: 0.9354838709677419, Val Acc: 0.7727272727272727\n",
      "0/62 - Running Loss: 0.6277680397033691\n",
      "10/62 - Running Loss: 0.9267436861991882\n",
      "20/62 - Running Loss: 0.5526856184005737\n",
      "30/62 - Running Loss: 1.0921508073806763\n",
      "40/62 - Running Loss: 1.3014447689056396\n",
      "50/62 - Running Loss: 1.0514447689056396\n",
      "60/62 - Running Loss: 1.5514447689056396\n",
      "5/10-Train Loss: 0.8787462855539014, Val Loss: 1.1575053749662456\n",
      "5/10-Train Acc: 0.6935483870967742, Val Acc: 0.3939393939393939\n",
      "0/62 - Running Loss: 0.5514447689056396\n",
      "10/62 - Running Loss: 0.5514447689056396\n",
      "20/62 - Running Loss: 0.8014447689056396\n",
      "30/62 - Running Loss: 0.8014447689056396\n",
      "40/62 - Running Loss: 1.3014447689056396\n",
      "50/62 - Running Loss: 1.5514447689056396\n",
      "60/62 - Running Loss: 1.3014447689056396\n",
      "6/10-Train Loss: 1.1078963818088654, Val Loss: 1.1575053749662456\n",
      "6/10-Train Acc: 0.4435483870967742, Val Acc: 0.3939393939393939\n",
      "0/62 - Running Loss: 1.0514447689056396\n",
      "10/62 - Running Loss: 1.0514447689056396\n",
      "20/62 - Running Loss: 0.8014447689056396\n",
      "30/62 - Running Loss: 1.3014447689056396\n",
      "40/62 - Running Loss: 1.0514447689056396\n",
      "50/62 - Running Loss: 1.0514447689056396\n",
      "60/62 - Running Loss: 1.0514447689056396\n",
      "7/10-Train Loss: 1.1119286398733816, Val Loss: 1.1575053749662456\n",
      "7/10-Train Acc: 0.43951612903225806, Val Acc: 0.3939393939393939\n",
      "0/62 - Running Loss: 1.0514447689056396\n",
      "10/62 - Running Loss: 1.3014447689056396\n",
      "20/62 - Running Loss: 1.0514447689056396\n",
      "30/62 - Running Loss: 0.8014447689056396\n",
      "40/62 - Running Loss: 1.0514447689056396\n",
      "50/62 - Running Loss: 1.0514447689056396\n",
      "60/62 - Running Loss: 1.3014447689056396\n",
      "8/10-Train Loss: 1.1078963818088654, Val Loss: 1.1575053749662456\n",
      "8/10-Train Acc: 0.4435483870967742, Val Acc: 0.3939393939393939\n",
      "0/62 - Running Loss: 0.8014447689056396\n",
      "10/62 - Running Loss: 1.0514447689056396\n",
      "20/62 - Running Loss: 1.0514447689056396\n",
      "30/62 - Running Loss: 1.3014447689056396\n",
      "40/62 - Running Loss: 1.3014447689056396\n",
      "50/62 - Running Loss: 0.8014447689056396\n",
      "60/62 - Running Loss: 0.8014447689056396\n",
      "9/10-Train Loss: 1.1159608979378977, Val Loss: 1.1575053749662456\n",
      "9/10-Train Acc: 0.43548387096774194, Val Acc: 0.3939393939393939\n",
      "0/62 - Running Loss: 1.0514447689056396\n",
      "10/62 - Running Loss: 1.0514447689056396\n",
      "20/62 - Running Loss: 1.0514447689056396\n",
      "30/62 - Running Loss: 1.5514447689056396\n",
      "40/62 - Running Loss: 0.8014447689056396\n",
      "50/62 - Running Loss: 1.3014447689056396\n",
      "60/62 - Running Loss: 1.0514447689056396\n",
      "10/10-Train Loss: 1.1078963818088654, Val Loss: 1.1575053749662456\n",
      "10/10-Train Acc: 0.4435483870967742, Val Acc: 0.3939393939393939\n",
      "Best Accuracy: 0.3939393939393939\n"
     ]
    }
   ],
   "source": [
    "num_epochs = 10\n",
    "\n",
    "best_acc = 0.0\n",
    "train_loss, train_accuracy = [], []\n",
    "val_loss, val_accuracy = [], []\n",
    "\n",
    "for epoch in range(num_epochs):\n",
    "    losses, accuracies = train_one_epoch(dataloaders, model, optimizer, loss_func, device)\n",
    "    train_loss.append(losses[\"train\"])\n",
    "    val_loss.append(losses[\"val\"])\n",
    "    train_accuracy.append(accuracies[\"train\"])\n",
    "    val_accuracy.append(accuracies[\"val\"])\n",
    "    \n",
    "    print(f\"{epoch+1}/{num_epochs}-Train Loss: {losses['train']}, Val Loss: {losses['val']}\")\n",
    "    print(f\"{epoch+1}/{num_epochs}-Train Acc: {accuracies['train']}, Val Acc: {accuracies['val']}\")\n",
    "    \n",
    "    if (epoch > 3) and (accuracies[\"val\"] > best_acc):\n",
    "        best_acc = accuracies[\"val\"]\n",
    "        best_model = copy.deepcopy(model.state_dict())\n",
    "        save_best_model(best_model, f\"model_{epoch+1:02d}.pth\")\n",
    "        \n",
    "print(f\"Best Accuracy: {best_acc}\")"
   ]
  },
  {
   "cell_type": "code",
   "execution_count": 53,
   "id": "51055b08",
   "metadata": {},
   "outputs": [
    {
     "data": {
      "image/png": "[encoded data removed]",
      "text/plain": [
       "<Figure size 432x360 with 2 Axes>"
      ]
     },
     "metadata": {
      "needs_background": "light"
     },
     "output_type": "display_data"
    }
   ],
   "source": [
    "plt.figure(figsize=(6, 5))\n",
    "plt.subplot(211)\n",
    "plt.plot(train_loss, label=\"train\")\n",
    "plt.plot(val_loss,  label=\"val\")\n",
    "plt.xlabel(\"epoch\")\n",
    "plt.ylabel(\"loss\")\n",
    "plt.grid(\"on\")\n",
    "plt.legend()\n",
    "plt.subplot(212)\n",
    "plt.plot(train_accuracy, label=\"train\")\n",
    "plt.plot(val_accuracy, label=\"val\")\n",
    "plt.xlabel(\"epoch\")\n",
    "plt.ylabel(\"accuracy\")\n",
    "plt.grid(\"on\")\n",
    "plt.legend()\n",
    "plt.tight_layout()"
   ]
  },
  {
   "cell_type": "markdown",
   "id": "07d56589",
   "metadata": {},
   "source": [
    "# ---"
   ]
  },
  {
   "cell_type": "markdown",
   "id": "8cc3c7b0",
   "metadata": {},
   "source": [
    "## 15. 테스트 이미지를 통한 학습모델 분류성능검증하기"
   ]
  },
  {
   "cell_type": "code",
   "execution_count": 54,
   "id": "d1487ba3",
   "metadata": {},
   "outputs": [],
   "source": [
    "data_data = \"../DATASET/Classification/test/\"\n",
    "class_list = [\"Normal\", \"Covid\", \"Viral Pneumonia\"]\n",
    "\n",
    "test_normals_list = list_image_files(data_dir, \"Normal\")\n",
    "test_covids_list = list_image_files(data_dir, \"Covid\")\n",
    "test_pneumonias_list = list_image_files(data_dir, \"Viral Pneumonia\")"
   ]
  },
  {
   "cell_type": "code",
   "execution_count": 55,
   "id": "7db1fc72",
   "metadata": {},
   "outputs": [],
   "source": [
    "def preprocess_image(image):\n",
    "    transformer = transforms.Compose([\n",
    "        transforms.ToTensor(),\n",
    "        transforms.Resize((224, 244)),\n",
    "        transforms.Normalize(mean=[0.5, 0.5, 0.5], std=[0.5,0.5,0.5])\n",
    "    ])\n",
    "    \n",
    "    tensor_image = transformer(image)  # (C, H, W)\n",
    "    tensor_image = tensor_image.unsqueeze(0) # (B, C, H, W)\n",
    "    return tensor_image"
   ]
  },
  {
   "cell_type": "code",
   "execution_count": 56,
   "id": "e3feb14f",
   "metadata": {},
   "outputs": [],
   "source": [
    "@torch.no_grad()\n",
    "def model_predict(image, model):\n",
    "    tensor_image = preprocess_image(image)\n",
    "    prediction = model(tensor_image)\n",
    "    \n",
    "    _, pred_label = torch.max(prediction.detach(), dim=1)\n",
    "    pred_label = pred_label.squeeze(0) # dummy batch 삭제 (B, 1) -> (1)\n",
    "    return pred_label.item()"
   ]
  },
  {
   "cell_type": "code",
   "execution_count": 67,
   "id": "bca293c4",
   "metadata": {},
   "outputs": [
    {
     "data": {
      "text/plain": [
       "VGG(\n",
       "  (features): Sequential(\n",
       "    (0): Conv2d(3, 64, kernel_size=(3, 3), stride=(1, 1), padding=(1, 1))\n",
       "    (1): ReLU(inplace=True)\n",
       "    (2): Conv2d(64, 64, kernel_size=(3, 3), stride=(1, 1), padding=(1, 1))\n",
       "    (3): ReLU(inplace=True)\n",
       "    (4): MaxPool2d(kernel_size=2, stride=2, padding=0, dilation=1, ceil_mode=False)\n",
       "    (5): Conv2d(64, 128, kernel_size=(3, 3), stride=(1, 1), padding=(1, 1))\n",
       "    (6): ReLU(inplace=True)\n",
       "    (7): Conv2d(128, 128, kernel_size=(3, 3), stride=(1, 1), padding=(1, 1))\n",
       "    (8): ReLU(inplace=True)\n",
       "    (9): MaxPool2d(kernel_size=2, stride=2, padding=0, dilation=1, ceil_mode=False)\n",
       "    (10): Conv2d(128, 256, kernel_size=(3, 3), stride=(1, 1), padding=(1, 1))\n",
       "    (11): ReLU(inplace=True)\n",
       "    (12): Conv2d(256, 256, kernel_size=(3, 3), stride=(1, 1), padding=(1, 1))\n",
       "    (13): ReLU(inplace=True)\n",
       "    (14): Conv2d(256, 256, kernel_size=(3, 3), stride=(1, 1), padding=(1, 1))\n",
       "    (15): ReLU(inplace=True)\n",
       "    (16): Conv2d(256, 256, kernel_size=(3, 3), stride=(1, 1), padding=(1, 1))\n",
       "    (17): ReLU(inplace=True)\n",
       "    (18): MaxPool2d(kernel_size=2, stride=2, padding=0, dilation=1, ceil_mode=False)\n",
       "    (19): Conv2d(256, 512, kernel_size=(3, 3), stride=(1, 1), padding=(1, 1))\n",
       "    (20): ReLU(inplace=True)\n",
       "    (21): Conv2d(512, 512, kernel_size=(3, 3), stride=(1, 1), padding=(1, 1))\n",
       "    (22): ReLU(inplace=True)\n",
       "    (23): Conv2d(512, 512, kernel_size=(3, 3), stride=(1, 1), padding=(1, 1))\n",
       "    (24): ReLU(inplace=True)\n",
       "    (25): Conv2d(512, 512, kernel_size=(3, 3), stride=(1, 1), padding=(1, 1))\n",
       "    (26): ReLU(inplace=True)\n",
       "    (27): MaxPool2d(kernel_size=2, stride=2, padding=0, dilation=1, ceil_mode=False)\n",
       "    (28): Conv2d(512, 512, kernel_size=(3, 3), stride=(1, 1), padding=(1, 1))\n",
       "    (29): ReLU(inplace=True)\n",
       "    (30): Conv2d(512, 512, kernel_size=(3, 3), stride=(1, 1), padding=(1, 1))\n",
       "    (31): ReLU(inplace=True)\n",
       "    (32): Conv2d(512, 512, kernel_size=(3, 3), stride=(1, 1), padding=(1, 1))\n",
       "    (33): ReLU(inplace=True)\n",
       "    (34): Conv2d(512, 512, kernel_size=(3, 3), stride=(1, 1), padding=(1, 1))\n",
       "    (35): ReLU(inplace=True)\n",
       "    (36): MaxPool2d(kernel_size=2, stride=2, padding=0, dilation=1, ceil_mode=False)\n",
       "  )\n",
       "  (avgpool): AdaptiveAvgPool2d(output_size=(1, 1))\n",
       "  (classifier): Sequential(\n",
       "    (0): Flatten(start_dim=1, end_dim=-1)\n",
       "    (1): Linear(in_features=512, out_features=256, bias=True)\n",
       "    (2): ReLU()\n",
       "    (3): Linear(in_features=256, out_features=3, bias=True)\n",
       "    (4): Softmax(dim=1)\n",
       "  )\n",
       ")"
      ]
     },
     "execution_count": 67,
     "metadata": {},
     "output_type": "execute_result"
    }
   ],
   "source": [
    "ckpt = torch.load(\"./trained_model/model_06.pth\")\n",
    "\n",
    "model = build_vgg19_based_model(device_name='cpu')\n",
    "model.load_state_dict(ckpt)\n",
    "model.eval()"
   ]
  },
  {
   "cell_type": "code",
   "execution_count": 68,
   "id": "53206af7",
   "metadata": {},
   "outputs": [
    {
     "data": {
      "text/plain": [
       "<All keys matched successfully>"
      ]
     },
     "execution_count": 68,
     "metadata": {},
     "output_type": "execute_result"
    }
   ],
   "source": [
    "model.load_state_dict(ckpt)"
   ]
  },
  {
   "cell_type": "code",
   "execution_count": 69,
   "id": "2d2677d3",
   "metadata": {},
   "outputs": [
    {
     "data": {
      "application/vnd.jupyter.widget-view+json": {
       "model_id": "86eddbc0816b4c36a12fee77a99a954e",
       "version_major": 2,
       "version_minor": 0
      },
      "text/plain": [
       "interactive(children=(IntSlider(value=0, description='index', max=69), Output()), _dom_classes=('widget-intera…"
      ]
     },
     "metadata": {},
     "output_type": "display_data"
    }
   ],
   "source": [
    "min_num_files = min(len(test_normals_list), len(test_covids_list), len(test_pneumonias_list))\n",
    "\n",
    "@interact(index=(0, min_num_files-1))\n",
    "def show_result(index=0):\n",
    "    normal_image = get_RGB_image(data_dir, test_normals_list[index])\n",
    "    covid_image = get_RGB_image(data_dir, test_covids_list[index])\n",
    "    pneumonia_image = get_RGB_image(data_dir, test_pneumonias_list[index])\n",
    "    \n",
    "    prediction_1 = model_predict(normal_image, model)\n",
    "    prediction_2 = model_predict(covid_image, model)\n",
    "    prediction_3 = model_predict(pneumonia_image, model)\n",
    "    \n",
    "    plt.figure(figsize=(12,8))\n",
    "    plt.subplot(131)\n",
    "    plt.title(f\"Pred:{class_list[prediction_1]} | GT:Normal\")\n",
    "    plt.imshow(normal_image)\n",
    "    plt.subplot(132)\n",
    "    plt.title(f\"Pred:{class_list[prediction_2]} | GT:Covid\")\n",
    "    plt.imshow(covid_image)\n",
    "    plt.subplot(133)\n",
    "    plt.title(f\"Pred:{class_list[prediction_3]} | GT:Pneumonia\")\n",
    "    plt.imshow(pneumonia_image)\n",
    "    plt.tight_layout()"
   ]
  },
  {
   "cell_type": "code",
   "execution_count": null,
   "id": "0429e749",
   "metadata": {},
   "outputs": [],
   "source": []
  }
 ],
 "metadata": {
  "kernelspec": {
   "display_name": "Python 3.8.13 ('usePytorch')",
   "language": "python",
   "name": "python3"
  },
  "language_info": {
   "codemirror_mode": {
    "name": "ipython",
    "version": 3
   },
   "file_extension": ".py",
   "mimetype": "text/x-python",
   "name": "python",
   "nbconvert_exporter": "python",
   "pygments_lexer": "ipython3",
   "version": "3.8.13"
  },
  "vscode": {
   "interpreter": {
    "hash": "d67afed350c528055f2528b65dcee38560ce04848f0ceec4c78743b97b05f9fe"
   }
  }
 },
 "nbformat": 4,
 "nbformat_minor": 5
}
