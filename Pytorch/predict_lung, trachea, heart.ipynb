{
 "cells": [
  {
   "cell_type": "markdown",
   "id": "a885f428",
   "metadata": {},
   "source": [
    "# CT 복원영상에서 폐, 기도, 심장을 가이드해주는 딥러닝 모델 만들기"
   ]
  },
  {
   "cell_type": "markdown",
   "id": "782cf237",
   "metadata": {},
   "source": [
    "## 1. CT이미지 데이터셋 살펴보기"
   ]
  },
  {
   "cell_type": "code",
   "execution_count": 1,
   "id": "827b16e7",
   "metadata": {},
   "outputs": [],
   "source": [
    "import os\n",
    "import pandas as pd"
   ]
  },
  {
   "cell_type": "code",
   "execution_count": 2,
   "id": "5c2dd353",
   "metadata": {},
   "outputs": [
    {
     "data": {
      "text/html": [
       "<div>\n",
       "<style scoped>\n",
       "    .dataframe tbody tr th:only-of-type {\n",
       "        vertical-align: middle;\n",
       "    }\n",
       "\n",
       "    .dataframe tbody tr th {\n",
       "        vertical-align: top;\n",
       "    }\n",
       "\n",
       "    .dataframe thead th {\n",
       "        text-align: right;\n",
       "    }\n",
       "</style>\n",
       "<table border=\"1\" class=\"dataframe\">\n",
       "  <thead>\n",
       "    <tr style=\"text-align: right;\">\n",
       "      <th></th>\n",
       "      <th>ImageId</th>\n",
       "      <th>MaskId</th>\n",
       "    </tr>\n",
       "  </thead>\n",
       "  <tbody>\n",
       "    <tr>\n",
       "      <th>0</th>\n",
       "      <td>ID00007637202177411956430_0.jpg</td>\n",
       "      <td>ID00007637202177411956430_mask_0.jpg</td>\n",
       "    </tr>\n",
       "    <tr>\n",
       "      <th>1</th>\n",
       "      <td>ID00007637202177411956430_1.jpg</td>\n",
       "      <td>ID00007637202177411956430_mask_1.jpg</td>\n",
       "    </tr>\n",
       "    <tr>\n",
       "      <th>2</th>\n",
       "      <td>ID00007637202177411956430_2.jpg</td>\n",
       "      <td>ID00007637202177411956430_mask_2.jpg</td>\n",
       "    </tr>\n",
       "    <tr>\n",
       "      <th>3</th>\n",
       "      <td>ID00007637202177411956430_3.jpg</td>\n",
       "      <td>ID00007637202177411956430_mask_3.jpg</td>\n",
       "    </tr>\n",
       "    <tr>\n",
       "      <th>4</th>\n",
       "      <td>ID00007637202177411956430_4.jpg</td>\n",
       "      <td>ID00007637202177411956430_mask_4.jpg</td>\n",
       "    </tr>\n",
       "  </tbody>\n",
       "</table>\n",
       "</div>"
      ],
      "text/plain": [
       "                           ImageId                                MaskId\n",
       "0  ID00007637202177411956430_0.jpg  ID00007637202177411956430_mask_0.jpg\n",
       "1  ID00007637202177411956430_1.jpg  ID00007637202177411956430_mask_1.jpg\n",
       "2  ID00007637202177411956430_2.jpg  ID00007637202177411956430_mask_2.jpg\n",
       "3  ID00007637202177411956430_3.jpg  ID00007637202177411956430_mask_3.jpg\n",
       "4  ID00007637202177411956430_4.jpg  ID00007637202177411956430_mask_4.jpg"
      ]
     },
     "execution_count": 2,
     "metadata": {},
     "output_type": "execute_result"
    }
   ],
   "source": [
    "data_dir = \"../DATASET/Segmentation/\"\n",
    "data_df = pd.read_csv(os.path.join(data_dir, \"train.csv\"))\n",
    "data_df.head()"
   ]
  },
  {
   "cell_type": "code",
   "execution_count": 3,
   "id": "e6c265ea",
   "metadata": {},
   "outputs": [],
   "source": [
    "def extract_client_id(x):\n",
    "    return x.split(\"_\")[0]"
   ]
  },
  {
   "cell_type": "code",
   "execution_count": 4,
   "id": "3a9575cb",
   "metadata": {},
   "outputs": [
    {
     "data": {
      "text/html": [
       "<div>\n",
       "<style scoped>\n",
       "    .dataframe tbody tr th:only-of-type {\n",
       "        vertical-align: middle;\n",
       "    }\n",
       "\n",
       "    .dataframe tbody tr th {\n",
       "        vertical-align: top;\n",
       "    }\n",
       "\n",
       "    .dataframe thead th {\n",
       "        text-align: right;\n",
       "    }\n",
       "</style>\n",
       "<table border=\"1\" class=\"dataframe\">\n",
       "  <thead>\n",
       "    <tr style=\"text-align: right;\">\n",
       "      <th></th>\n",
       "      <th>ImageId</th>\n",
       "      <th>MaskId</th>\n",
       "      <th>Id</th>\n",
       "    </tr>\n",
       "  </thead>\n",
       "  <tbody>\n",
       "    <tr>\n",
       "      <th>0</th>\n",
       "      <td>ID00007637202177411956430_0.jpg</td>\n",
       "      <td>ID00007637202177411956430_mask_0.jpg</td>\n",
       "      <td>ID00007637202177411956430</td>\n",
       "    </tr>\n",
       "    <tr>\n",
       "      <th>1</th>\n",
       "      <td>ID00007637202177411956430_1.jpg</td>\n",
       "      <td>ID00007637202177411956430_mask_1.jpg</td>\n",
       "      <td>ID00007637202177411956430</td>\n",
       "    </tr>\n",
       "    <tr>\n",
       "      <th>2</th>\n",
       "      <td>ID00007637202177411956430_2.jpg</td>\n",
       "      <td>ID00007637202177411956430_mask_2.jpg</td>\n",
       "      <td>ID00007637202177411956430</td>\n",
       "    </tr>\n",
       "    <tr>\n",
       "      <th>3</th>\n",
       "      <td>ID00007637202177411956430_3.jpg</td>\n",
       "      <td>ID00007637202177411956430_mask_3.jpg</td>\n",
       "      <td>ID00007637202177411956430</td>\n",
       "    </tr>\n",
       "    <tr>\n",
       "      <th>4</th>\n",
       "      <td>ID00007637202177411956430_4.jpg</td>\n",
       "      <td>ID00007637202177411956430_mask_4.jpg</td>\n",
       "      <td>ID00007637202177411956430</td>\n",
       "    </tr>\n",
       "    <tr>\n",
       "      <th>...</th>\n",
       "      <td>...</td>\n",
       "      <td>...</td>\n",
       "      <td>...</td>\n",
       "    </tr>\n",
       "    <tr>\n",
       "      <th>16703</th>\n",
       "      <td>ID00426637202313170790466_403.jpg</td>\n",
       "      <td>ID00426637202313170790466_mask_403.jpg</td>\n",
       "      <td>ID00426637202313170790466</td>\n",
       "    </tr>\n",
       "    <tr>\n",
       "      <th>16704</th>\n",
       "      <td>ID00426637202313170790466_404.jpg</td>\n",
       "      <td>ID00426637202313170790466_mask_404.jpg</td>\n",
       "      <td>ID00426637202313170790466</td>\n",
       "    </tr>\n",
       "    <tr>\n",
       "      <th>16705</th>\n",
       "      <td>ID00426637202313170790466_405.jpg</td>\n",
       "      <td>ID00426637202313170790466_mask_405.jpg</td>\n",
       "      <td>ID00426637202313170790466</td>\n",
       "    </tr>\n",
       "    <tr>\n",
       "      <th>16706</th>\n",
       "      <td>ID00426637202313170790466_406.jpg</td>\n",
       "      <td>ID00426637202313170790466_mask_406.jpg</td>\n",
       "      <td>ID00426637202313170790466</td>\n",
       "    </tr>\n",
       "    <tr>\n",
       "      <th>16707</th>\n",
       "      <td>ID00426637202313170790466_407.jpg</td>\n",
       "      <td>ID00426637202313170790466_mask_407.jpg</td>\n",
       "      <td>ID00426637202313170790466</td>\n",
       "    </tr>\n",
       "  </tbody>\n",
       "</table>\n",
       "<p>16708 rows × 3 columns</p>\n",
       "</div>"
      ],
      "text/plain": [
       "                                 ImageId  \\\n",
       "0        ID00007637202177411956430_0.jpg   \n",
       "1        ID00007637202177411956430_1.jpg   \n",
       "2        ID00007637202177411956430_2.jpg   \n",
       "3        ID00007637202177411956430_3.jpg   \n",
       "4        ID00007637202177411956430_4.jpg   \n",
       "...                                  ...   \n",
       "16703  ID00426637202313170790466_403.jpg   \n",
       "16704  ID00426637202313170790466_404.jpg   \n",
       "16705  ID00426637202313170790466_405.jpg   \n",
       "16706  ID00426637202313170790466_406.jpg   \n",
       "16707  ID00426637202313170790466_407.jpg   \n",
       "\n",
       "                                       MaskId                         Id  \n",
       "0        ID00007637202177411956430_mask_0.jpg  ID00007637202177411956430  \n",
       "1        ID00007637202177411956430_mask_1.jpg  ID00007637202177411956430  \n",
       "2        ID00007637202177411956430_mask_2.jpg  ID00007637202177411956430  \n",
       "3        ID00007637202177411956430_mask_3.jpg  ID00007637202177411956430  \n",
       "4        ID00007637202177411956430_mask_4.jpg  ID00007637202177411956430  \n",
       "...                                       ...                        ...  \n",
       "16703  ID00426637202313170790466_mask_403.jpg  ID00426637202313170790466  \n",
       "16704  ID00426637202313170790466_mask_404.jpg  ID00426637202313170790466  \n",
       "16705  ID00426637202313170790466_mask_405.jpg  ID00426637202313170790466  \n",
       "16706  ID00426637202313170790466_mask_406.jpg  ID00426637202313170790466  \n",
       "16707  ID00426637202313170790466_mask_407.jpg  ID00426637202313170790466  \n",
       "\n",
       "[16708 rows x 3 columns]"
      ]
     },
     "execution_count": 4,
     "metadata": {},
     "output_type": "execute_result"
    }
   ],
   "source": [
    "data_df[\"Id\"] = data_df.ImageId.apply(lambda x:extract_client_id(x))\n",
    "data_df"
   ]
  },
  {
   "cell_type": "code",
   "execution_count": 5,
   "id": "93535a3c",
   "metadata": {},
   "outputs": [],
   "source": [
    "import numpy as np"
   ]
  },
  {
   "cell_type": "code",
   "execution_count": 6,
   "id": "3ccfa554",
   "metadata": {},
   "outputs": [
    {
     "name": "stdout",
     "output_type": "stream",
     "text": [
      "112\n"
     ]
    }
   ],
   "source": [
    "client_ids = np.unique(data_df.Id.values)\n",
    "print(len(client_ids))"
   ]
  },
  {
   "cell_type": "code",
   "execution_count": 8,
   "id": "49a9750f",
   "metadata": {},
   "outputs": [],
   "source": [
    "index = 0\n",
    "client_data = data_df[data_df.Id == client_ids[index]][[\"ImageId\", \"MaskId\"]]"
   ]
  },
  {
   "cell_type": "code",
   "execution_count": 10,
   "metadata": {},
   "outputs": [
    {
     "data": {
      "text/html": [
       "<div>\n",
       "<style scoped>\n",
       "    .dataframe tbody tr th:only-of-type {\n",
       "        vertical-align: middle;\n",
       "    }\n",
       "\n",
       "    .dataframe tbody tr th {\n",
       "        vertical-align: top;\n",
       "    }\n",
       "\n",
       "    .dataframe thead th {\n",
       "        text-align: right;\n",
       "    }\n",
       "</style>\n",
       "<table border=\"1\" class=\"dataframe\">\n",
       "  <thead>\n",
       "    <tr style=\"text-align: right;\">\n",
       "      <th></th>\n",
       "      <th>ImageId</th>\n",
       "      <th>MaskId</th>\n",
       "    </tr>\n",
       "  </thead>\n",
       "  <tbody>\n",
       "    <tr>\n",
       "      <th>0</th>\n",
       "      <td>ID00007637202177411956430_0.jpg</td>\n",
       "      <td>ID00007637202177411956430_mask_0.jpg</td>\n",
       "    </tr>\n",
       "    <tr>\n",
       "      <th>1</th>\n",
       "      <td>ID00007637202177411956430_1.jpg</td>\n",
       "      <td>ID00007637202177411956430_mask_1.jpg</td>\n",
       "    </tr>\n",
       "    <tr>\n",
       "      <th>2</th>\n",
       "      <td>ID00007637202177411956430_2.jpg</td>\n",
       "      <td>ID00007637202177411956430_mask_2.jpg</td>\n",
       "    </tr>\n",
       "    <tr>\n",
       "      <th>3</th>\n",
       "      <td>ID00007637202177411956430_3.jpg</td>\n",
       "      <td>ID00007637202177411956430_mask_3.jpg</td>\n",
       "    </tr>\n",
       "    <tr>\n",
       "      <th>4</th>\n",
       "      <td>ID00007637202177411956430_4.jpg</td>\n",
       "      <td>ID00007637202177411956430_mask_4.jpg</td>\n",
       "    </tr>\n",
       "    <tr>\n",
       "      <th>5</th>\n",
       "      <td>ID00007637202177411956430_5.jpg</td>\n",
       "      <td>ID00007637202177411956430_mask_5.jpg</td>\n",
       "    </tr>\n",
       "    <tr>\n",
       "      <th>6</th>\n",
       "      <td>ID00007637202177411956430_6.jpg</td>\n",
       "      <td>ID00007637202177411956430_mask_6.jpg</td>\n",
       "    </tr>\n",
       "    <tr>\n",
       "      <th>7</th>\n",
       "      <td>ID00007637202177411956430_7.jpg</td>\n",
       "      <td>ID00007637202177411956430_mask_7.jpg</td>\n",
       "    </tr>\n",
       "    <tr>\n",
       "      <th>8</th>\n",
       "      <td>ID00007637202177411956430_8.jpg</td>\n",
       "      <td>ID00007637202177411956430_mask_8.jpg</td>\n",
       "    </tr>\n",
       "    <tr>\n",
       "      <th>9</th>\n",
       "      <td>ID00007637202177411956430_9.jpg</td>\n",
       "      <td>ID00007637202177411956430_mask_9.jpg</td>\n",
       "    </tr>\n",
       "    <tr>\n",
       "      <th>10</th>\n",
       "      <td>ID00007637202177411956430_10.jpg</td>\n",
       "      <td>ID00007637202177411956430_mask_10.jpg</td>\n",
       "    </tr>\n",
       "    <tr>\n",
       "      <th>11</th>\n",
       "      <td>ID00007637202177411956430_11.jpg</td>\n",
       "      <td>ID00007637202177411956430_mask_11.jpg</td>\n",
       "    </tr>\n",
       "    <tr>\n",
       "      <th>12</th>\n",
       "      <td>ID00007637202177411956430_12.jpg</td>\n",
       "      <td>ID00007637202177411956430_mask_12.jpg</td>\n",
       "    </tr>\n",
       "    <tr>\n",
       "      <th>13</th>\n",
       "      <td>ID00007637202177411956430_13.jpg</td>\n",
       "      <td>ID00007637202177411956430_mask_13.jpg</td>\n",
       "    </tr>\n",
       "    <tr>\n",
       "      <th>14</th>\n",
       "      <td>ID00007637202177411956430_14.jpg</td>\n",
       "      <td>ID00007637202177411956430_mask_14.jpg</td>\n",
       "    </tr>\n",
       "    <tr>\n",
       "      <th>15</th>\n",
       "      <td>ID00007637202177411956430_15.jpg</td>\n",
       "      <td>ID00007637202177411956430_mask_15.jpg</td>\n",
       "    </tr>\n",
       "    <tr>\n",
       "      <th>16</th>\n",
       "      <td>ID00007637202177411956430_16.jpg</td>\n",
       "      <td>ID00007637202177411956430_mask_16.jpg</td>\n",
       "    </tr>\n",
       "    <tr>\n",
       "      <th>17</th>\n",
       "      <td>ID00007637202177411956430_17.jpg</td>\n",
       "      <td>ID00007637202177411956430_mask_17.jpg</td>\n",
       "    </tr>\n",
       "    <tr>\n",
       "      <th>18</th>\n",
       "      <td>ID00007637202177411956430_18.jpg</td>\n",
       "      <td>ID00007637202177411956430_mask_18.jpg</td>\n",
       "    </tr>\n",
       "    <tr>\n",
       "      <th>19</th>\n",
       "      <td>ID00007637202177411956430_19.jpg</td>\n",
       "      <td>ID00007637202177411956430_mask_19.jpg</td>\n",
       "    </tr>\n",
       "    <tr>\n",
       "      <th>20</th>\n",
       "      <td>ID00007637202177411956430_20.jpg</td>\n",
       "      <td>ID00007637202177411956430_mask_20.jpg</td>\n",
       "    </tr>\n",
       "    <tr>\n",
       "      <th>21</th>\n",
       "      <td>ID00007637202177411956430_21.jpg</td>\n",
       "      <td>ID00007637202177411956430_mask_21.jpg</td>\n",
       "    </tr>\n",
       "    <tr>\n",
       "      <th>22</th>\n",
       "      <td>ID00007637202177411956430_22.jpg</td>\n",
       "      <td>ID00007637202177411956430_mask_22.jpg</td>\n",
       "    </tr>\n",
       "    <tr>\n",
       "      <th>23</th>\n",
       "      <td>ID00007637202177411956430_23.jpg</td>\n",
       "      <td>ID00007637202177411956430_mask_23.jpg</td>\n",
       "    </tr>\n",
       "    <tr>\n",
       "      <th>24</th>\n",
       "      <td>ID00007637202177411956430_24.jpg</td>\n",
       "      <td>ID00007637202177411956430_mask_24.jpg</td>\n",
       "    </tr>\n",
       "    <tr>\n",
       "      <th>25</th>\n",
       "      <td>ID00007637202177411956430_25.jpg</td>\n",
       "      <td>ID00007637202177411956430_mask_25.jpg</td>\n",
       "    </tr>\n",
       "    <tr>\n",
       "      <th>26</th>\n",
       "      <td>ID00007637202177411956430_26.jpg</td>\n",
       "      <td>ID00007637202177411956430_mask_26.jpg</td>\n",
       "    </tr>\n",
       "    <tr>\n",
       "      <th>27</th>\n",
       "      <td>ID00007637202177411956430_27.jpg</td>\n",
       "      <td>ID00007637202177411956430_mask_27.jpg</td>\n",
       "    </tr>\n",
       "    <tr>\n",
       "      <th>28</th>\n",
       "      <td>ID00007637202177411956430_28.jpg</td>\n",
       "      <td>ID00007637202177411956430_mask_28.jpg</td>\n",
       "    </tr>\n",
       "    <tr>\n",
       "      <th>29</th>\n",
       "      <td>ID00007637202177411956430_29.jpg</td>\n",
       "      <td>ID00007637202177411956430_mask_29.jpg</td>\n",
       "    </tr>\n",
       "  </tbody>\n",
       "</table>\n",
       "</div>"
      ],
      "text/plain": [
       "                             ImageId                                 MaskId\n",
       "0    ID00007637202177411956430_0.jpg   ID00007637202177411956430_mask_0.jpg\n",
       "1    ID00007637202177411956430_1.jpg   ID00007637202177411956430_mask_1.jpg\n",
       "2    ID00007637202177411956430_2.jpg   ID00007637202177411956430_mask_2.jpg\n",
       "3    ID00007637202177411956430_3.jpg   ID00007637202177411956430_mask_3.jpg\n",
       "4    ID00007637202177411956430_4.jpg   ID00007637202177411956430_mask_4.jpg\n",
       "5    ID00007637202177411956430_5.jpg   ID00007637202177411956430_mask_5.jpg\n",
       "6    ID00007637202177411956430_6.jpg   ID00007637202177411956430_mask_6.jpg\n",
       "7    ID00007637202177411956430_7.jpg   ID00007637202177411956430_mask_7.jpg\n",
       "8    ID00007637202177411956430_8.jpg   ID00007637202177411956430_mask_8.jpg\n",
       "9    ID00007637202177411956430_9.jpg   ID00007637202177411956430_mask_9.jpg\n",
       "10  ID00007637202177411956430_10.jpg  ID00007637202177411956430_mask_10.jpg\n",
       "11  ID00007637202177411956430_11.jpg  ID00007637202177411956430_mask_11.jpg\n",
       "12  ID00007637202177411956430_12.jpg  ID00007637202177411956430_mask_12.jpg\n",
       "13  ID00007637202177411956430_13.jpg  ID00007637202177411956430_mask_13.jpg\n",
       "14  ID00007637202177411956430_14.jpg  ID00007637202177411956430_mask_14.jpg\n",
       "15  ID00007637202177411956430_15.jpg  ID00007637202177411956430_mask_15.jpg\n",
       "16  ID00007637202177411956430_16.jpg  ID00007637202177411956430_mask_16.jpg\n",
       "17  ID00007637202177411956430_17.jpg  ID00007637202177411956430_mask_17.jpg\n",
       "18  ID00007637202177411956430_18.jpg  ID00007637202177411956430_mask_18.jpg\n",
       "19  ID00007637202177411956430_19.jpg  ID00007637202177411956430_mask_19.jpg\n",
       "20  ID00007637202177411956430_20.jpg  ID00007637202177411956430_mask_20.jpg\n",
       "21  ID00007637202177411956430_21.jpg  ID00007637202177411956430_mask_21.jpg\n",
       "22  ID00007637202177411956430_22.jpg  ID00007637202177411956430_mask_22.jpg\n",
       "23  ID00007637202177411956430_23.jpg  ID00007637202177411956430_mask_23.jpg\n",
       "24  ID00007637202177411956430_24.jpg  ID00007637202177411956430_mask_24.jpg\n",
       "25  ID00007637202177411956430_25.jpg  ID00007637202177411956430_mask_25.jpg\n",
       "26  ID00007637202177411956430_26.jpg  ID00007637202177411956430_mask_26.jpg\n",
       "27  ID00007637202177411956430_27.jpg  ID00007637202177411956430_mask_27.jpg\n",
       "28  ID00007637202177411956430_28.jpg  ID00007637202177411956430_mask_28.jpg\n",
       "29  ID00007637202177411956430_29.jpg  ID00007637202177411956430_mask_29.jpg"
      ]
     },
     "execution_count": 10,
     "metadata": {},
     "output_type": "execute_result"
    }
   ],
   "source": [
    "# 첫번째 사람은 30개 이미지 존재\n",
    "client_data"
   ]
  },
  {
   "cell_type": "code",
   "execution_count": 7,
   "id": "f1439e1e",
   "metadata": {},
   "outputs": [],
   "source": [
    "import cv2\n",
    "import matplotlib.pyplot as plt"
   ]
  },
  {
   "cell_type": "code",
   "execution_count": 16,
   "id": "18a325b0",
   "metadata": {},
   "outputs": [
    {
     "data": {
      "image/png": "[encoded data removed]",
      "text/plain": [
       "<Figure size 576x432 with 2 Axes>"
      ]
     },
     "metadata": {
      "needs_background": "light"
     },
     "output_type": "display_data"
    }
   ],
   "source": [
    "sub_index = 3\n",
    "img_name, mask_name = client_data.iloc[sub_index].values\n",
    "img_path, mask_path = os.path.join(data_dir, \"images\", img_name), os.path.join(data_dir, \"masks\", mask_name)\n",
    "image = cv2.imread(img_path)\n",
    "mask = cv2.imread(mask_path)\n",
    "\n",
    "#.jpg이므로 0 또는 255로 나타내준다.\n",
    "thres = 240\n",
    "mask[mask < thres] = 0\n",
    "mask[mask >= thres] = 255\n",
    "\n",
    "plt.figure(figsize=(8,6))\n",
    "plt.subplot(121)\n",
    "plt.title(\"image\")\n",
    "plt.imshow(image)\n",
    "plt.subplot(122)\n",
    "plt.title(\"mask\")\n",
    "plt.imshow(mask)\n",
    "plt.tight_layout()"
   ]
  },
  {
   "cell_type": "code",
   "execution_count": 17,
   "id": "676d4b61",
   "metadata": {},
   "outputs": [],
   "source": [
    "def get_client_data(data_df, index):\n",
    "    client_ids = np.unique(data_df.Id.values)\n",
    "    client_id = client_ids[index]\n",
    "    client_data = data_df[data_df.Id == client_id]\n",
    "    image_files = list(client_data[\"ImageId\"])\n",
    "    mask_files = list(client_data[\"MaskId\"])\n",
    "    return client_id, image_files, mask_files"
   ]
  },
  {
   "cell_type": "code",
   "execution_count": 18,
   "id": "b6ed8161",
   "metadata": {},
   "outputs": [],
   "source": [
    "regions = [\"background\", \"trachea\", \"heart\", \"lung\"]\n",
    "colors = ((0,0,0), (255, 0, 0), (0, 255, 0), (0, 0, 255))"
   ]
  },
  {
   "cell_type": "code",
   "execution_count": 19,
   "id": "3f3dcf3d",
   "metadata": {},
   "outputs": [],
   "source": [
    "index = 0\n",
    "client_id, image_files, mask_files = get_client_data(data_df, index)\n",
    "\n",
    "canvas = np.zeros(shape=(512, 2*512+50, 3), dtype=np.uint8)\n",
    "for i in range(len(image_files)):\n",
    "    image = cv2.imread(os.path.join(data_dir, \"images\", image_files[i]))\n",
    "    image = cv2.cvtColor(image, cv2.COLOR_BGR2RGB)\n",
    "    mask = cv2.imread(os.path.join(data_dir, \"masks\", mask_files[i]))\n",
    "    mask = cv2.cvtColor(mask, cv2.COLOR_BGR2RGB)\n",
    "    thres = 240\n",
    "    mask[mask < thres] = 0\n",
    "    mask[mask >= thres] = 255\n",
    "    grid_pad = 50\n",
    "    \n",
    "    canvas[:, :512, :] = image\n",
    "    canvas[:, 512+grid_pad:2*512+grid_pad, :] = mask\n",
    "    \n",
    "    text_buff = 410\n",
    "    for j in range(1, len(regions)):\n",
    "        cv2.putText(canvas, f'{regions[j].upper()}', (900, text_buff), cv2.FONT_HERSHEY_SIMPLEX, 1, colors[j], 2)\n",
    "        text_buff += 40\n",
    "    \n",
    "    cv2.imshow('CT frames', canvas)\n",
    "    key = cv2.waitKey(60)\n",
    "    if key == 27:\n",
    "        break\n",
    "cv2.destroyAllWindows()"
   ]
  },
  {
   "cell_type": "markdown",
   "id": "389a654e",
   "metadata": {},
   "source": [
    "## 2. 데이터셋 구축과 연산을 위한 텐서변환 모듈 작성하기"
   ]
  },
  {
   "cell_type": "code",
   "execution_count": 20,
   "id": "e4c05978",
   "metadata": {},
   "outputs": [],
   "source": [
    "import torch"
   ]
  },
  {
   "cell_type": "code",
   "execution_count": 21,
   "id": "94c0069c",
   "metadata": {},
   "outputs": [
    {
     "data": {
      "text/plain": [
       "'1.11.0'"
      ]
     },
     "execution_count": 21,
     "metadata": {},
     "output_type": "execute_result"
    }
   ],
   "source": [
    "torch.__version__"
   ]
  },
  {
   "cell_type": "code",
   "execution_count": 23,
   "id": "d3a34c8c",
   "metadata": {},
   "outputs": [],
   "source": [
    "IMAGE_SIZE = 224"
   ]
  },
  {
   "cell_type": "code",
   "execution_count": 24,
   "id": "88480c5b",
   "metadata": {},
   "outputs": [],
   "source": [
    "class CT_dataset():\n",
    "    def __init__(self, data_dir, phase, transformer=None):\n",
    "        self.phase = phase\n",
    "        self.images_dir = os.path.join(data_dir, phase, \"images\")\n",
    "        self.masks_dir = os.path.join(data_dir, phase, \"masks\")\n",
    "        self.image_files = [filename for filename in os.listdir(self.images_dir) if filename.endswith(\"jpg\")]\n",
    "        self.mask_files = [filename for filename in os.listdir(self.masks_dir) if filename.endswith(\"jpg\")]\n",
    "        assert len(self.image_files) == len(self.mask_files)\n",
    "        \n",
    "        self.transformer = transformer\n",
    "    \n",
    "    def __len__(self):\n",
    "        return len(self.image_files)\n",
    "    \n",
    "    def __getitem__(self, index):\n",
    "        image = cv2.imread(os.path.join(self.images_dir, self.image_files[index]))\n",
    "        image = cv2.resize(image, dsize=(IMAGE_SIZE,IMAGE_SIZE), interpolation=cv2.INTER_LINEAR)\n",
    "        mask = cv2.imread(os.path.join(self.masks_dir, self.mask_files[index]))\n",
    "        # 새로운 값을 들어가지 않게 INTER_NEAREST로 처리\n",
    "        mask = cv2.resize(mask, dsize=(IMAGE_SIZE,IMAGE_SIZE), interpolation=cv2.INTER_NEAREST)\n",
    "        mask[mask < 240] = 0\n",
    "        mask[mask >= 240] = 255\n",
    "        mask = mask / 255\n",
    "        \n",
    "        mask_H, mask_W, mask_C = mask.shape\n",
    "        background = np.ones(shape=(mask_H, mask_W))\n",
    "        background[mask[...,0] != 0] = 0\n",
    "        background[mask[...,1] != 0] = 0\n",
    "        background[mask[...,2] != 0] = 0\n",
    "        mask = np.concatenate([np.expand_dims(background, -1), mask], axis=-1)\n",
    "        mask = np.argmax(mask, axis=-1, keepdims=False)\n",
    "        \n",
    "        if self.transformer:\n",
    "            image = self.transformer(image)\n",
    "        target = torch.from_numpy(mask).long()\n",
    "        return image, target"
   ]
  },
  {
   "cell_type": "code",
   "execution_count": 25,
   "id": "7f2bd976",
   "metadata": {},
   "outputs": [],
   "source": [
    "from torchvision import transforms"
   ]
  },
  {
   "cell_type": "code",
   "execution_count": 26,
   "id": "867aa168",
   "metadata": {},
   "outputs": [],
   "source": [
    "def build_transformer():\n",
    "    # Compose: 여러 변환을 하나로 묶어준다.\n",
    "    transformer = transforms.Compose([\n",
    "        transforms.ToTensor(),\n",
    "        transforms.Normalize(mean=[0.485, 0.456, 0.406], std=[0.229, 0.224, 0.225])\n",
    "    ])\n",
    "    return transformer"
   ]
  },
  {
   "cell_type": "code",
   "execution_count": 27,
   "id": "cc17fc04",
   "metadata": {},
   "outputs": [],
   "source": [
    "def collate_fn(batch):\n",
    "    images = []\n",
    "    targets = []\n",
    "    for a, b in batch: \n",
    "        images.append(a)\n",
    "        targets.append(b)\n",
    "    images = torch.stack(images, dim=0) \n",
    "    targets = torch.stack(targets, dim=0)\n",
    "\n",
    "    return images, targets"
   ]
  },
  {
   "cell_type": "code",
   "execution_count": 28,
   "id": "1461af55",
   "metadata": {},
   "outputs": [],
   "source": [
    "from torch.utils.data import DataLoader"
   ]
  },
  {
   "cell_type": "code",
   "execution_count": 29,
   "id": "856b11e4",
   "metadata": {},
   "outputs": [],
   "source": [
    "data_dir = \"../DATASET/Segmentation/\"\n",
    "transformer = build_transformer()\n",
    "tr_dataset = CT_dataset(data_dir=data_dir, phase=\"train\", transformer=transformer)\n",
    "val_dataset = CT_dataset(data_dir=data_dir, phase=\"val\", transformer=transformer)\n",
    "tr_dataloader = DataLoader(tr_dataset, batch_size=4, shuffle=True, collate_fn=collate_fn)\n",
    "val_dataloader = DataLoader(val_dataset, batch_size=1, shuffle=False, collate_fn=collate_fn)"
   ]
  },
  {
   "cell_type": "code",
   "execution_count": 30,
   "id": "658e9069",
   "metadata": {},
   "outputs": [],
   "source": [
    "def build_dataloader(data_dir, batch_size=4):\n",
    "    transformer = build_transformer()\n",
    "    \n",
    "    dataloaders = {}\n",
    "    train_dataset = CT_dataset(data_dir=data_dir, phase=\"train\", transformer=transformer)\n",
    "    dataloaders[\"train\"] = DataLoader(tr_dataset, batch_size=batch_size, shuffle=True, collate_fn=collate_fn)\n",
    "\n",
    "    val_dataset = CT_dataset(data_dir=data_dir, phase=\"val\", transformer=transformer)\n",
    "    dataloaders[\"val\"] = DataLoader(val_dataset, batch_size=1, shuffle=False, collate_fn=collate_fn)\n",
    "    return dataloaders"
   ]
  },
  {
   "cell_type": "code",
   "execution_count": null,
   "id": "7293ad6c",
   "metadata": {},
   "outputs": [],
   "source": [
    "# build_dataloader사용\n",
    "'''\n",
    "data_dir = \"../DATASET/Segmentation/\"\n",
    "dataloaders = build_dataloader(data_dir = data_dir)\n",
    "\n",
    "for phase in [\"train\", \"val\"]:\n",
    "    for index, batch in enumerate(dataloaders[phase]):\n",
    "        images = batch[0]\n",
    "        targets = batch[1]\n",
    "        print(f\"images shape : {images.shape}\")\n",
    "        print(f\"targets shape : {targets.shape}\")\n",
    "        \n",
    "        if index == 0:\n",
    "            break\n",
    "'''"
   ]
  },
  {
   "cell_type": "code",
   "execution_count": 31,
   "id": "1a83e4c1",
   "metadata": {},
   "outputs": [
    {
     "name": "stdout",
     "output_type": "stream",
     "text": [
      "images shape: torch.Size([4, 3, 224, 224])\n",
      "masks shape: torch.Size([4, 224, 224])\n"
     ]
    }
   ],
   "source": [
    "for index, batch in enumerate(tr_dataloader):\n",
    "    images = batch[0]\n",
    "    targets = batch[1]\n",
    "    print(f\"images shape: {images.shape}\")\n",
    "    print(f\"masks shape: {targets.shape}\")\n",
    "    if index == 0:\n",
    "        break"
   ]
  },
  {
   "cell_type": "markdown",
   "id": "2bc7c3f9",
   "metadata": {},
   "source": [
    "## 3. U-Net 데이터 아키텍처 구현해보기"
   ]
  },
  {
   "attachments": {
    "unet-architecture.png": {
     "image/png": "[encoded data removed]"
    }
   },
   "cell_type": "markdown",
   "id": "61249f74",
   "metadata": {},
   "source": [
    "![unet-architecture.png](attachment:unet-architecture.png)\n",
    "그림 출처: https://towardsdatascience.com/unet-line-by-line-explanation-9b191c76baf5"
   ]
  },
  {
   "cell_type": "code",
   "execution_count": 32,
   "id": "8b15b7c6",
   "metadata": {},
   "outputs": [],
   "source": [
    "import torch\n",
    "import torch.nn as nn"
   ]
  },
  {
   "cell_type": "code",
   "execution_count": 33,
   "id": "b3cab31d",
   "metadata": {},
   "outputs": [],
   "source": [
    "def ConvLayer(in_channels, out_channels):\n",
    "    layers = nn.Sequential(\n",
    "        nn.Conv2d(in_channels, out_channels, kernel_size=3, padding=1),\n",
    "        nn.BatchNorm2d(out_channels),\n",
    "        nn.ReLU(inplace=True),\n",
    "        \n",
    "        nn.Conv2d(out_channels, out_channels, kernel_size=3, padding=1),\n",
    "        nn.BatchNorm2d(out_channels),\n",
    "        nn.ReLU(inplace=True),\n",
    "    )\n",
    "    return layers"
   ]
  },
  {
   "cell_type": "code",
   "execution_count": 34,
   "id": "e820e0b4",
   "metadata": {},
   "outputs": [],
   "source": [
    "class Encoder(nn.Module):\n",
    "    def __init__(self):\n",
    "        super().__init__()\n",
    "        self.conv_block1 = ConvLayer(in_channels=3, out_channels=64)\n",
    "        self.conv_block2 = ConvLayer(in_channels=64, out_channels=128)\n",
    "        self.conv_block3 = ConvLayer(in_channels=128, out_channels=256)\n",
    "        self.conv_block4 = ConvLayer(in_channels=256, out_channels=512)\n",
    "        self.conv_block5 = ConvLayer(in_channels=512, out_channels=1024)\n",
    "        self.pool = nn.MaxPool2d(kernel_size=2)\n",
    "        \n",
    "    def forward(self, x):\n",
    "        encode_features = []\n",
    "        out = self.conv_block1(x)\n",
    "        encode_features.append(out)\n",
    "        out = self.pool(out)\n",
    "        \n",
    "        out = self.conv_block2(out)\n",
    "        encode_features.append(out)\n",
    "        out = self.pool(out)\n",
    "        \n",
    "        out = self.conv_block3(out)\n",
    "        encode_features.append(out)\n",
    "        out = self.pool(out)\n",
    "        \n",
    "        out = self.conv_block4(out)\n",
    "        encode_features.append(out)\n",
    "        out = self.pool(out)\n",
    "        \n",
    "        out = self.conv_block5(out)\n",
    "        return out, encode_features"
   ]
  },
  {
   "cell_type": "code",
   "execution_count": 35,
   "id": "12b44878",
   "metadata": {},
   "outputs": [],
   "source": [
    "encoder = Encoder()\n",
    "x = torch.randn(1, 3, 224, 224)\n",
    "out, ftrs = encoder(x)"
   ]
  },
  {
   "cell_type": "code",
   "execution_count": 50,
   "id": "27fee28f",
   "metadata": {},
   "outputs": [
    {
     "name": "stdout",
     "output_type": "stream",
     "text": [
      "torch.Size([1, 64, 224, 224])\n",
      "torch.Size([1, 128, 112, 112])\n",
      "torch.Size([1, 256, 56, 56])\n",
      "torch.Size([1, 512, 28, 28])\n",
      "torch.Size([1, 1024, 14, 14])\n"
     ]
    }
   ],
   "source": [
    "for ftr in ftrs:\n",
    "    print(ftr.shape)\n",
    "print(out.shape)"
   ]
  },
  {
   "cell_type": "code",
   "execution_count": 36,
   "id": "4b7ee447",
   "metadata": {},
   "outputs": [],
   "source": [
    "def UpConvLayer(in_channels, out_channels):\n",
    "    layers = nn.Sequential(\n",
    "        nn.ConvTranspose2d(in_channels, out_channels, kernel_size=2, stride=2),\n",
    "        nn.BatchNorm2d(out_channels),\n",
    "        nn.ReLU(inplace=True)\n",
    "    )\n",
    "    return layers"
   ]
  },
  {
   "cell_type": "code",
   "execution_count": 37,
   "id": "40d134a1",
   "metadata": {},
   "outputs": [],
   "source": [
    "class Decoder(nn.Module):\n",
    "    def __init__(self):\n",
    "        super().__init__()\n",
    "        self.upconv_layer1 = UpConvLayer(in_channels=1024, out_channels=512)\n",
    "        self.conv_block1 = ConvLayer(in_channels=512+512, out_channels=512)\n",
    "        \n",
    "        self.upconv_layer2 = UpConvLayer(in_channels=512, out_channels=256)\n",
    "        self.conv_block2 = ConvLayer(in_channels=256+256, out_channels=256)\n",
    "        \n",
    "        self.upconv_layer3 = UpConvLayer(in_channels=256, out_channels=128)\n",
    "        self.conv_block3 = ConvLayer(in_channels=128+128, out_channels=128)\n",
    "        \n",
    "        self.upconv_layer4 = UpConvLayer(in_channels=128, out_channels=64)\n",
    "        self.conv_block4 = ConvLayer(in_channels=64+64, out_channels=64)\n",
    "        \n",
    "    def forward(self, x, encoder_features):\n",
    "        out = self.upconv_layer1(x)\n",
    "        croped_enc_feature = self._center_crop(encoder_features[-1], out.shape[2:])\n",
    "        out = torch.cat([out, croped_enc_feature], dim=1)\n",
    "        out = self.conv_block1(out)\n",
    "        \n",
    "        out = self.upconv_layer2(out)\n",
    "        croped_enc_feature = self._center_crop(encoder_features[-2], out.shape[2:])\n",
    "        out = torch.cat([out, croped_enc_feature], dim=1)\n",
    "        out = self.conv_block2(out)\n",
    "        \n",
    "        out = self.upconv_layer3(out)\n",
    "        croped_enc_feature = self._center_crop(encoder_features[-3], out.shape[2:])\n",
    "        out = torch.cat([out, croped_enc_feature], dim=1)\n",
    "        out = self.conv_block3(out)\n",
    "        \n",
    "        out = self.upconv_layer4(out)\n",
    "        croped_enc_feature = self._center_crop(encoder_features[-4], out.shape[2:])\n",
    "        out = torch.cat([out, croped_enc_feature], dim=1)\n",
    "        out = self.conv_block4(out)\n",
    "        return out\n",
    "        \n",
    "    def _center_crop(self, encoder_feature, decoder_feature_size):\n",
    "        croped_features = transforms.CenterCrop(size=decoder_feature_size)(encoder_feature)\n",
    "        return croped_features"
   ]
  },
  {
   "cell_type": "code",
   "execution_count": 38,
   "id": "e1be6706",
   "metadata": {},
   "outputs": [],
   "source": [
    "encoder = Encoder()\n",
    "decoder = Decoder()\n",
    "x = torch.randn(1, 3, 224, 224)\n",
    "out, ftrs = encoder(x)\n",
    "out = decoder(out, ftrs)"
   ]
  },
  {
   "cell_type": "code",
   "execution_count": 39,
   "id": "2e9482fd",
   "metadata": {},
   "outputs": [
    {
     "name": "stdout",
     "output_type": "stream",
     "text": [
      "torch.Size([1, 64, 224, 224])\n"
     ]
    }
   ],
   "source": [
    "print(out.shape)"
   ]
  },
  {
   "cell_type": "code",
   "execution_count": 40,
   "id": "d9975221",
   "metadata": {},
   "outputs": [],
   "source": [
    "import torch.nn.functional as F"
   ]
  },
  {
   "cell_type": "code",
   "execution_count": 41,
   "id": "10fbf4e7",
   "metadata": {},
   "outputs": [],
   "source": [
    "class UNet(nn.Module):\n",
    "    def __init__(self, num_classes, retain_input_dim=True):\n",
    "        super().__init__()\n",
    "        self.encoder = Encoder()\n",
    "        self.decoder = Decoder()\n",
    "        self.head = nn.Conv2d(64, num_classes, kernel_size=1)\n",
    "        self.retain_input_dim = retain_input_dim\n",
    "        \n",
    "    def forward(self, x):\n",
    "        out, encode_features = self.encoder(x)\n",
    "        out = self.decoder(out, encode_features)\n",
    "        out = self.head(out)\n",
    "        if self.retain_input_dim:\n",
    "            _, _, H, W = x.shape\n",
    "            out = F.interpolate(out, size=(H,W))\n",
    "        return out"
   ]
  },
  {
   "cell_type": "code",
   "execution_count": 42,
   "id": "46aff9ef",
   "metadata": {},
   "outputs": [
    {
     "name": "stdout",
     "output_type": "stream",
     "text": [
      "input shape: torch.Size([1, 3, 224, 224])\n",
      "output shape: torch.Size([1, 4, 224, 224])\n"
     ]
    }
   ],
   "source": [
    "model = UNet(num_classes=4)\n",
    "x = torch.randn(1, 3, 224, 224)\n",
    "out = model(x)\n",
    "print(f\"input shape: {x.shape}\")\n",
    "print(f\"output shape: {out.shape}\")"
   ]
  },
  {
   "cell_type": "markdown",
   "id": "11d0823c",
   "metadata": {},
   "source": [
    "## 4. Dice similarity coefficient 설명 및 구현하기"
   ]
  },
  {
   "attachments": {
    "Scheme-to-explain-how-Dice-coefficient-is-calculated-The-light-red-and-light-green.png": {
     "image/png": "[encoded data removed]"
    }
   },
   "cell_type": "markdown",
   "id": "bf4e7f56",
   "metadata": {},
   "source": [
    "![Scheme-to-explain-how-Dice-coefficient-is-calculated-The-light-red-and-light-green.png](attachment:Scheme-to-explain-how-Dice-coefficient-is-calculated-The-light-red-and-light-green.png)\n",
    "그림 출처: https://www.researchgate.net/figure/Scheme-to-explain-how-Dice-coefficient-is-calculated-The-light-red-and-light-green_fig4_352895635"
   ]
  },
  {
   "cell_type": "markdown",
   "id": "1b1fe0f1",
   "metadata": {},
   "source": [
    "### Dice similarity coefficient(DSC) == F1 score? YES only if binary segmentation task!"
   ]
  },
  {
   "attachments": {
    "JCSB-07-209-g003.gif": {
     "image/gif": "[encoded data removed]"
    }
   },
   "cell_type": "markdown",
   "id": "34e44b8e",
   "metadata": {},
   "source": [
    "![JCSB-07-209-g003.gif](attachment:JCSB-07-209-g003.gif)\n",
    "그림 출처: https://www.omicsonline.org/articles-images/JCSB-07-209-g003.html"
   ]
  },
  {
   "cell_type": "markdown",
   "id": "b41b0e9a",
   "metadata": {},
   "source": [
    "### What is Dice coefficient loss or Dice loss? Dice loss = 1 - DSC"
   ]
  },
  {
   "cell_type": "code",
   "execution_count": 43,
   "id": "285419af",
   "metadata": {},
   "outputs": [],
   "source": [
    "for index, batch in enumerate(tr_dataloader):\n",
    "    images = batch[0]\n",
    "    targets = batch[1]\n",
    "    predictions = model(images)\n",
    "    \n",
    "    if index == 0:\n",
    "        break"
   ]
  },
  {
   "cell_type": "code",
   "execution_count": 44,
   "id": "ab761a33",
   "metadata": {},
   "outputs": [],
   "source": [
    "num_classes = 4\n",
    "\n",
    "predictions_ = torch.argmax(predictions, dim=1)\n",
    "onehot_pred = F.one_hot(predictions_, num_classes=num_classes).permute(0, 3, 1, 2)\n",
    "onehot_target = F.one_hot(targets, num_classes=num_classes).permute(0, 3, 1, 2)"
   ]
  },
  {
   "cell_type": "code",
   "execution_count": 45,
   "id": "aef26837",
   "metadata": {},
   "outputs": [],
   "source": [
    "onehot_pred_ = onehot_pred[0]\n",
    "onehot_target_ = onehot_target[0]\n",
    "\n",
    "dice_coeff = 0\n",
    "for class_index in range(1, num_classes):\n",
    "    a = onehot_pred_[class_index]\n",
    "    b = onehot_target_[class_index]\n",
    "    set_inter = torch.dot(a.reshape(-1).float(), b.reshape(-1).float())\n",
    "    set_sum = a.sum() + b.sum()\n",
    "    dice_coeff += (2 * set_inter) / (set_sum + 1e-9)\n",
    "dice_coeff /= (num_classes-1)"
   ]
  },
  {
   "cell_type": "code",
   "execution_count": 46,
   "id": "b41592e9",
   "metadata": {},
   "outputs": [],
   "source": [
    "dice_loss = 1. - dice_coeff"
   ]
  },
  {
   "cell_type": "code",
   "execution_count": 108,
   "id": "c7b0ec69",
   "metadata": {},
   "outputs": [],
   "source": [
    "class UNet_metric():\n",
    "    def __init__(self, num_classes):\n",
    "        self.num_classes = num_classes\n",
    "        \n",
    "    def __call__(self, pred, target):\n",
    "        onehot_pred = F.one_hot(torch.argmax(pred, dim=1), num_classes=self.num_classes).permute(0, 3, 1, 2)\n",
    "        onehot_target = F.one_hot(target, num_classes=self.num_classes).permute(0, 3, 1, 2)\n",
    "        dice_loss = self._get_dice_loss(onehot_pred, onehot_target)\n",
    "        dice_coefficient = self._get_batch_dice_coefficient(onehot_pred, onehot_target)\n",
    "        return dice_loss, dice_coefficient\n",
    "    \n",
    "    def _get_dice_coeffient(self, pred, target):\n",
    "        set_inter = torch.dot(pred.reshape(-1).float(), target.reshape(-1).float())\n",
    "        set_sum = pred.sum() + target.sum()\n",
    "        if set_sum.item() == 0:\n",
    "            set_sum = 2 * set_inter\n",
    "        dice_coeff = (2 * set_inter) / (set_sum + 1e-9)\n",
    "        return dice_coeff\n",
    "    \n",
    "    def _get_multiclass_dice_coefficient(self, pred, target):\n",
    "        dice = 0\n",
    "        for class_index in range(1, self.num_classes):\n",
    "            dice += self._get_dice_coeffient(pred[class_index], target[class_index])\n",
    "        return dice / (self.num_classes - 1)\n",
    "    \n",
    "    def _get_batch_dice_coefficient(self, pred, target):\n",
    "        num_batch = pred.shape[0]\n",
    "        dice = 0\n",
    "        for batch_index in range(num_batch):\n",
    "            dice += self._get_multiclass_dice_coefficient(pred[batch_index], target[batch_index])\n",
    "        return dice / num_batch\n",
    "    \n",
    "    def _get_dice_loss(self, pred, target):\n",
    "        return 1 - self._get_batch_dice_coefficient(pred, target)"
   ]
  },
  {
   "cell_type": "code",
   "execution_count": 109,
   "id": "e756672a",
   "metadata": {},
   "outputs": [
    {
     "data": {
      "text/plain": [
       "(tensor(0.9623), tensor(0.0377))"
      ]
     },
     "execution_count": 109,
     "metadata": {},
     "output_type": "execute_result"
    }
   ],
   "source": [
    "criterion = UNet_metric(num_classes=4)\n",
    "criterion(predictions, targets)"
   ]
  },
  {
   "cell_type": "markdown",
   "id": "935191b5",
   "metadata": {},
   "source": [
    "## 5. Loss function 구현 및 SGDM 최적화 적용하기"
   ]
  },
  {
   "cell_type": "code",
   "execution_count": 47,
   "id": "d4f05e88",
   "metadata": {},
   "outputs": [],
   "source": [
    "class UNet_metric():\n",
    "    def __init__(self, num_classes):\n",
    "        self.num_classes = num_classes\n",
    "        self.CE_loss = nn.CrossEntropyLoss(reduction=\"mean\")\n",
    "        \n",
    "    def __call__(self, pred, target):\n",
    "        loss1 = self.CE_loss(pred, target)\n",
    "        onehot_pred = F.one_hot(torch.argmax(pred, dim=1), num_classes=self.num_classes).permute(0, 3, 1, 2)\n",
    "        onehot_target = F.one_hot(target, num_classes=self.num_classes).permute(0, 3, 1, 2)\n",
    "        loss2 = self._get_dice_loss(onehot_pred, onehot_target)\n",
    "        loss = loss1 + loss2\n",
    "        \n",
    "        dice_coefficient = self._get_batch_dice_coefficient(onehot_pred, onehot_target)\n",
    "        return loss, dice_coefficient\n",
    "    \n",
    "    def _get_dice_coeffient(self, pred, target):\n",
    "        set_inter = torch.dot(pred.reshape(-1).float(), target.reshape(-1).float())\n",
    "        set_sum = pred.sum() + target.sum()\n",
    "        if set_sum.item() == 0:\n",
    "            set_sum = 2 * set_inter\n",
    "        dice_coeff = (2 * set_inter) / (set_sum + 1e-9)\n",
    "        return dice_coeff\n",
    "    \n",
    "    def _get_multiclass_dice_coefficient(self, pred, target):\n",
    "        dice = 0\n",
    "        for class_index in range(1, self.num_classes):\n",
    "            dice += self._get_dice_coeffient(pred[class_index], target[class_index])\n",
    "        return dice / (self.num_classes - 1)\n",
    "    \n",
    "    def _get_batch_dice_coefficient(self, pred, target):\n",
    "        num_batch = pred.shape[0]\n",
    "        dice = 0\n",
    "        for batch_index in range(num_batch):\n",
    "            dice += self._get_multiclass_dice_coefficient(pred[batch_index], target[batch_index])\n",
    "        return dice / num_batch\n",
    "    \n",
    "    def _get_dice_loss(self, pred, target):\n",
    "        return 1 - self._get_batch_dice_coefficient(pred, target)"
   ]
  },
  {
   "cell_type": "code",
   "execution_count": 48,
   "id": "021cf67c",
   "metadata": {},
   "outputs": [
    {
     "data": {
      "text/plain": [
       "(tensor(2.4037, grad_fn=<AddBackward0>), tensor(0.0412))"
      ]
     },
     "execution_count": 48,
     "metadata": {},
     "output_type": "execute_result"
    }
   ],
   "source": [
    "criterion = UNet_metric(num_classes=4)\n",
    "criterion(predictions, targets)"
   ]
  },
  {
   "cell_type": "code",
   "execution_count": 49,
   "id": "62a72460",
   "metadata": {},
   "outputs": [],
   "source": [
    "optimizer = torch.optim.SGD(model.parameters(), lr= 1E-3, momentum=0.9)"
   ]
  },
  {
   "cell_type": "code",
   "execution_count": 50,
   "id": "f01752f0",
   "metadata": {},
   "outputs": [],
   "source": [
    "for index, batch in enumerate(tr_dataloader):\n",
    "    images = batch[0]\n",
    "    targets = batch[1]\n",
    "    predictions = model(images)\n",
    "    criterion(predictions, targets)\n",
    "    if index == 1:\n",
    "        break"
   ]
  },
  {
   "cell_type": "markdown",
   "id": "a03c1455",
   "metadata": {},
   "source": [
    "## 6. Semantic segmentation 학습을 위한 코드 작성하기"
   ]
  },
  {
   "cell_type": "code",
   "execution_count": 51,
   "id": "24ac1fe6",
   "metadata": {},
   "outputs": [],
   "source": [
    "def train_one_epoch(dataloaders, model, optimizer, criterion, device):\n",
    "    losses = {}\n",
    "    dice_coefficients = {}\n",
    "    \n",
    "    for phase in [\"train\", \"val\"]:\n",
    "        running_loss = 0.0\n",
    "        running_dice_coeff = 0.0\n",
    "        \n",
    "        if phase == \"train\":\n",
    "            model.train()\n",
    "        else:\n",
    "            model.eval()\n",
    "        \n",
    "        for index, batch in enumerate(dataloaders[phase]):\n",
    "            images = batch[0].to(device)\n",
    "            targets = batch[1].to(device)\n",
    "            \n",
    "            with torch.set_grad_enabled(phase == \"train\"):\n",
    "                predictions = model(images)\n",
    "                loss, dice_coefficient = criterion(predictions, targets)\n",
    "                \n",
    "                if phase == \"train\":\n",
    "                    optimizer.zero_grad()\n",
    "                    loss.backward()\n",
    "                    optimizer.step()\n",
    "            \n",
    "            running_loss += loss.item()\n",
    "            running_dice_coeff += dice_coefficient.item()\n",
    "            \n",
    "            if phase == \"train\":\n",
    "                if index % 100 == 0:\n",
    "                    text = f\"{index}/{len(dataloaders[phase])}\" + \\\n",
    "                            f\" - Running Loss: {loss.item():.4f}\" + \\\n",
    "                            f\" - Running Dice: {dice_coefficient.item():.4f}\" \n",
    "                    print(text)\n",
    "\n",
    "        losses[phase] = running_loss / len(dataloaders[phase])\n",
    "        dice_coefficients[phase] = running_dice_coeff / len(dataloaders[phase])\n",
    "    return losses, dice_coefficients"
   ]
  },
  {
   "cell_type": "code",
   "execution_count": 52,
   "id": "0b4c88f1",
   "metadata": {},
   "outputs": [],
   "source": [
    "from utils import save_model"
   ]
  },
  {
   "cell_type": "code",
   "execution_count": 55,
   "id": "7e0d3716",
   "metadata": {},
   "outputs": [],
   "source": [
    "data_dir = \"../DATASET/Segmentation/\"\n",
    "is_cuda = True\n",
    "\n",
    "NUM_CLASSES = 4\n",
    "IMAGE_SIZE = 224\n",
    "# BATCH_SIZE = 2\n",
    "BATCH_SIZE = 12\n",
    "DEVICE = torch.device('cuda' if torch.cuda.is_available and is_cuda else 'cpu')\n",
    "\n",
    "dataloaders = build_dataloader(data_dir, batch_size=BATCH_SIZE)\n",
    "model = UNet(num_classes=NUM_CLASSES)\n",
    "model = model.to(DEVICE)\n",
    "criterion = UNet_metric(num_classes=NUM_CLASSES)\n",
    "optimizer = torch.optim.SGD(model.parameters(), lr= 1E-3, momentum=0.9)"
   ]
  },
  {
   "cell_type": "code",
   "execution_count": 56,
   "id": "4a1afb8d",
   "metadata": {
    "scrolled": true
   },
   "outputs": [
    {
     "name": "stdout",
     "output_type": "stream",
     "text": [
      "0/1243 - Running Loss: 2.6523 - Running Dice: 0.0141\n",
      "100/1243 - Running Loss: 1.2821 - Running Dice: 0.0007\n",
      "200/1243 - Running Loss: 1.1160 - Running Dice: 0.0858\n",
      "300/1243 - Running Loss: 1.0989 - Running Dice: 0.0773\n",
      "400/1243 - Running Loss: 0.9851 - Running Dice: 0.1757\n",
      "500/1243 - Running Loss: 0.8345 - Running Dice: 0.2495\n",
      "600/1243 - Running Loss: 0.9551 - Running Dice: 0.2218\n",
      "700/1243 - Running Loss: 0.9325 - Running Dice: 0.1342\n",
      "800/1243 - Running Loss: 0.8422 - Running Dice: 0.2141\n",
      "900/1243 - Running Loss: 0.9521 - Running Dice: 0.2045\n",
      "1000/1243 - Running Loss: 0.9432 - Running Dice: 0.1587\n",
      "1100/1243 - Running Loss: 0.9353 - Running Dice: 0.1634\n",
      "1200/1243 - Running Loss: 0.9643 - Running Dice: 0.2299\n",
      "0/10 - Train Loss: 1.0420, Val Loss: 0.9361\n",
      "0/10 - Train Dice Coeff: 0.1599, Val Dice Coeff: 0.2068\n",
      "0/1243 - Running Loss: 0.8845 - Running Dice: 0.2489\n",
      "100/1243 - Running Loss: 0.8933 - Running Dice: 0.1738\n",
      "200/1243 - Running Loss: 0.9567 - Running Dice: 0.2732\n",
      "300/1243 - Running Loss: 0.9233 - Running Dice: 0.1924\n",
      "400/1243 - Running Loss: 0.8707 - Running Dice: 0.2262\n",
      "500/1243 - Running Loss: 0.8966 - Running Dice: 0.2091\n",
      "600/1243 - Running Loss: 0.9234 - Running Dice: 0.2436\n",
      "700/1243 - Running Loss: 0.9429 - Running Dice: 0.1257\n",
      "800/1243 - Running Loss: 0.8096 - Running Dice: 0.2858\n",
      "900/1243 - Running Loss: 0.7892 - Running Dice: 0.2947\n",
      "1000/1243 - Running Loss: 0.9304 - Running Dice: 0.1412\n",
      "1100/1243 - Running Loss: 0.8364 - Running Dice: 0.2116\n",
      "1200/1243 - Running Loss: 0.8075 - Running Dice: 0.2449\n",
      "1/10 - Train Loss: 0.8780, Val Loss: 0.9132\n",
      "1/10 - Train Dice Coeff: 0.2123, Val Dice Coeff: 0.2290\n",
      "0/1243 - Running Loss: 0.7780 - Running Dice: 0.3030\n",
      "100/1243 - Running Loss: 0.6981 - Running Dice: 0.3636\n",
      "200/1243 - Running Loss: 0.8378 - Running Dice: 0.2203\n",
      "300/1243 - Running Loss: 0.8019 - Running Dice: 0.2951\n",
      "400/1243 - Running Loss: 0.8412 - Running Dice: 0.1954\n",
      "500/1243 - Running Loss: 0.7723 - Running Dice: 0.2724\n",
      "600/1243 - Running Loss: 0.8395 - Running Dice: 0.1885\n",
      "700/1243 - Running Loss: 0.8662 - Running Dice: 0.1868\n",
      "800/1243 - Running Loss: 0.8572 - Running Dice: 0.1933\n",
      "900/1243 - Running Loss: 0.7607 - Running Dice: 0.2916\n",
      "1000/1243 - Running Loss: 0.7448 - Running Dice: 0.2916\n",
      "1100/1243 - Running Loss: 0.7596 - Running Dice: 0.2872\n",
      "1200/1243 - Running Loss: 0.8684 - Running Dice: 0.2684\n",
      "2/10 - Train Loss: 0.8060, Val Loss: 0.8891\n",
      "2/10 - Train Dice Coeff: 0.2554, Val Dice Coeff: 0.2565\n",
      "0/1243 - Running Loss: 0.7296 - Running Dice: 0.3234\n",
      "100/1243 - Running Loss: 0.8134 - Running Dice: 0.2461\n",
      "200/1243 - Running Loss: 0.7521 - Running Dice: 0.2843\n",
      "300/1243 - Running Loss: 0.7289 - Running Dice: 0.3105\n",
      "400/1243 - Running Loss: 0.9197 - Running Dice: 0.1336\n",
      "500/1243 - Running Loss: 0.7607 - Running Dice: 0.2627\n",
      "600/1243 - Running Loss: 0.8143 - Running Dice: 0.2218\n",
      "700/1243 - Running Loss: 0.7160 - Running Dice: 0.3276\n",
      "800/1243 - Running Loss: 0.7603 - Running Dice: 0.3198\n",
      "900/1243 - Running Loss: 0.8245 - Running Dice: 0.2199\n",
      "1000/1243 - Running Loss: 0.7468 - Running Dice: 0.2789\n",
      "1100/1243 - Running Loss: 0.8224 - Running Dice: 0.2562\n",
      "1200/1243 - Running Loss: 0.7308 - Running Dice: 0.3105\n",
      "3/10 - Train Loss: 0.7740, Val Loss: 0.9070\n",
      "3/10 - Train Dice Coeff: 0.2711, Val Dice Coeff: 0.2679\n",
      "0/1243 - Running Loss: 0.7853 - Running Dice: 0.2443\n",
      "100/1243 - Running Loss: 0.7846 - Running Dice: 0.2642\n",
      "200/1243 - Running Loss: 0.7318 - Running Dice: 0.2992\n",
      "300/1243 - Running Loss: 0.6435 - Running Dice: 0.3858\n",
      "400/1243 - Running Loss: 0.7999 - Running Dice: 0.2261\n",
      "500/1243 - Running Loss: 0.7518 - Running Dice: 0.2927\n",
      "600/1243 - Running Loss: 0.8282 - Running Dice: 0.1995\n",
      "700/1243 - Running Loss: 0.8144 - Running Dice: 0.2030\n",
      "800/1243 - Running Loss: 0.7718 - Running Dice: 0.2499\n",
      "900/1243 - Running Loss: 0.7091 - Running Dice: 0.3239\n",
      "1000/1243 - Running Loss: 0.7543 - Running Dice: 0.2845\n",
      "1100/1243 - Running Loss: 0.7030 - Running Dice: 0.3164\n",
      "1200/1243 - Running Loss: 0.8322 - Running Dice: 0.1884\n",
      "4/10 - Train Loss: 0.7563, Val Loss: 0.9396\n",
      "4/10 - Train Dice Coeff: 0.2797, Val Dice Coeff: 0.2331\n",
      "0/1243 - Running Loss: 0.8191 - Running Dice: 0.1981\n",
      "100/1243 - Running Loss: 0.6900 - Running Dice: 0.3468\n",
      "200/1243 - Running Loss: 0.7732 - Running Dice: 0.2530\n",
      "300/1243 - Running Loss: 0.7491 - Running Dice: 0.3017\n",
      "400/1243 - Running Loss: 0.7387 - Running Dice: 0.2821\n",
      "500/1243 - Running Loss: 0.7988 - Running Dice: 0.2162\n",
      "600/1243 - Running Loss: 0.7412 - Running Dice: 0.2797\n",
      "700/1243 - Running Loss: 0.6986 - Running Dice: 0.3486\n",
      "800/1243 - Running Loss: 0.7571 - Running Dice: 0.2637\n",
      "900/1243 - Running Loss: 0.7185 - Running Dice: 0.2985\n",
      "1000/1243 - Running Loss: 0.7514 - Running Dice: 0.2658\n",
      "1100/1243 - Running Loss: 0.7538 - Running Dice: 0.2732\n",
      "1200/1243 - Running Loss: 0.7047 - Running Dice: 0.3151\n",
      "5/10 - Train Loss: 0.7451, Val Loss: 0.9296\n",
      "5/10 - Train Dice Coeff: 0.2850, Val Dice Coeff: 0.2536\n",
      "0/1243 - Running Loss: 0.7063 - Running Dice: 0.3173\n",
      "100/1243 - Running Loss: 0.7474 - Running Dice: 0.2691\n",
      "200/1243 - Running Loss: 0.7151 - Running Dice: 0.3119\n",
      "300/1243 - Running Loss: 0.8240 - Running Dice: 0.2256\n",
      "400/1243 - Running Loss: 0.7278 - Running Dice: 0.2950\n",
      "500/1243 - Running Loss: 0.8663 - Running Dice: 0.1832\n",
      "600/1243 - Running Loss: 0.6671 - Running Dice: 0.3604\n",
      "700/1243 - Running Loss: 0.7338 - Running Dice: 0.2858\n",
      "800/1243 - Running Loss: 0.7296 - Running Dice: 0.2900\n",
      "900/1243 - Running Loss: 0.5936 - Running Dice: 0.4303\n",
      "1000/1243 - Running Loss: 0.8201 - Running Dice: 0.2073\n",
      "1100/1243 - Running Loss: 0.7747 - Running Dice: 0.2381\n",
      "1200/1243 - Running Loss: 0.7798 - Running Dice: 0.2348\n",
      "6/10 - Train Loss: 0.7360, Val Loss: 0.9446\n",
      "6/10 - Train Dice Coeff: 0.2893, Val Dice Coeff: 0.2483\n",
      "0/1243 - Running Loss: 0.8099 - Running Dice: 0.2074\n",
      "100/1243 - Running Loss: 0.6895 - Running Dice: 0.3221\n",
      "200/1243 - Running Loss: 0.6966 - Running Dice: 0.3189\n",
      "300/1243 - Running Loss: 0.7208 - Running Dice: 0.3191\n",
      "400/1243 - Running Loss: 0.7067 - Running Dice: 0.3105\n",
      "500/1243 - Running Loss: 0.6720 - Running Dice: 0.3557\n",
      "600/1243 - Running Loss: 0.5894 - Running Dice: 0.4480\n",
      "700/1243 - Running Loss: 0.7484 - Running Dice: 0.2664\n",
      "800/1243 - Running Loss: 0.8062 - Running Dice: 0.2138\n",
      "900/1243 - Running Loss: 0.7105 - Running Dice: 0.3146\n",
      "1000/1243 - Running Loss: 0.8234 - Running Dice: 0.1913\n",
      "1100/1243 - Running Loss: 0.7498 - Running Dice: 0.2702\n",
      "1200/1243 - Running Loss: 0.7287 - Running Dice: 0.2924\n",
      "7/10 - Train Loss: 0.7263, Val Loss: 0.9269\n",
      "7/10 - Train Dice Coeff: 0.2963, Val Dice Coeff: 0.2891\n",
      "0/1243 - Running Loss: 0.6773 - Running Dice: 0.3515\n",
      "100/1243 - Running Loss: 0.7685 - Running Dice: 0.2426\n",
      "200/1243 - Running Loss: 0.7347 - Running Dice: 0.2908\n",
      "300/1243 - Running Loss: 0.7411 - Running Dice: 0.2762\n",
      "400/1243 - Running Loss: 0.6165 - Running Dice: 0.4102\n",
      "500/1243 - Running Loss: 0.6711 - Running Dice: 0.3495\n",
      "600/1243 - Running Loss: 0.6576 - Running Dice: 0.3748\n",
      "700/1243 - Running Loss: 0.5982 - Running Dice: 0.4538\n",
      "800/1243 - Running Loss: 0.6439 - Running Dice: 0.3826\n",
      "900/1243 - Running Loss: 0.6027 - Running Dice: 0.4165\n",
      "1000/1243 - Running Loss: 0.6727 - Running Dice: 0.3468\n",
      "1100/1243 - Running Loss: 0.6768 - Running Dice: 0.3362\n",
      "1200/1243 - Running Loss: 0.6329 - Running Dice: 0.3971\n",
      "8/10 - Train Loss: 0.6848, Val Loss: 0.8855\n",
      "8/10 - Train Dice Coeff: 0.3355, Val Dice Coeff: 0.3205\n",
      "0/1243 - Running Loss: 0.6651 - Running Dice: 0.3457\n",
      "100/1243 - Running Loss: 0.7413 - Running Dice: 0.2763\n",
      "200/1243 - Running Loss: 0.6705 - Running Dice: 0.3502\n",
      "300/1243 - Running Loss: 0.6873 - Running Dice: 0.3292\n",
      "400/1243 - Running Loss: 0.6300 - Running Dice: 0.3817\n",
      "500/1243 - Running Loss: 0.6307 - Running Dice: 0.3911\n",
      "600/1243 - Running Loss: 0.7561 - Running Dice: 0.2592\n",
      "700/1243 - Running Loss: 0.5255 - Running Dice: 0.5023\n",
      "800/1243 - Running Loss: 0.5394 - Running Dice: 0.4759\n",
      "900/1243 - Running Loss: 0.5661 - Running Dice: 0.4494\n",
      "1000/1243 - Running Loss: 0.5808 - Running Dice: 0.4326\n",
      "1100/1243 - Running Loss: 0.8197 - Running Dice: 0.1921\n",
      "1200/1243 - Running Loss: 0.6812 - Running Dice: 0.3319\n",
      "9/10 - Train Loss: 0.6482, Val Loss: 1.2989\n",
      "9/10 - Train Dice Coeff: 0.3700, Val Dice Coeff: 0.1714\n",
      "Best epoch: 8 -> Best Dice Coeffient: 0.3205\n"
     ]
    }
   ],
   "source": [
    "num_epochs = 10\n",
    "\n",
    "best_epoch = 0\n",
    "best_score = 0.0\n",
    "train_loss, train_dice_coefficient = [], []\n",
    "val_loss, val_dice_coefficient = [], []\n",
    "\n",
    "for epoch in range(num_epochs):\n",
    "    losses, dice_coefficients = train_one_epoch(dataloaders, model, optimizer, criterion, DEVICE)\n",
    "    train_loss.append(losses[\"train\"])\n",
    "    val_loss.append(losses[\"val\"])\n",
    "    train_dice_coefficient.append(dice_coefficients[\"train\"])\n",
    "    val_dice_coefficient.append(dice_coefficients[\"val\"])\n",
    "    \n",
    "    print(f\"{epoch}/{num_epochs} - Train Loss: {losses['train']:.4f}, Val Loss: {losses['val']:.4f}\")\n",
    "    print(f\"{epoch}/{num_epochs} - Train Dice Coeff: {dice_coefficients['train']:.4f}, Val Dice Coeff: {dice_coefficients['val']:.4f}\")\n",
    "    \n",
    "    if (epoch > 3) and (dice_coefficients[\"val\"] > best_score):\n",
    "        best_epoch = epoch\n",
    "        best_score = dice_coefficients[\"val\"]\n",
    "        save_model(model.state_dict(), f\"model_{epoch:02d}.pth\")\n",
    "        \n",
    "print(f\"Best epoch: {best_epoch} -> Best Dice Coeffient: {best_score:.4f}\")"
   ]
  },
  {
   "cell_type": "code",
   "execution_count": 57,
   "id": "030a866c",
   "metadata": {},
   "outputs": [
    {
     "data": {
      "image/png": "[encoded data removed]",
      "text/plain": [
       "<Figure size 432x360 with 2 Axes>"
      ]
     },
     "metadata": {
      "needs_background": "light"
     },
     "output_type": "display_data"
    }
   ],
   "source": [
    "plt.figure(figsize=(6, 5))\n",
    "plt.subplot(211)\n",
    "plt.plot(train_loss, label=\"train\")\n",
    "plt.plot(val_loss,  label=\"val\")\n",
    "plt.xlabel(\"epoch\")\n",
    "plt.ylabel(\"loss\")\n",
    "plt.grid(\"on\")\n",
    "plt.legend()\n",
    "plt.subplot(212)\n",
    "plt.plot(train_dice_coefficient, label=\"train\")\n",
    "plt.plot(val_dice_coefficient, label=\"val\")\n",
    "plt.xlabel(\"epoch\")\n",
    "plt.ylabel(\"dice coefficient\")\n",
    "plt.grid(\"on\")\n",
    "plt.legend()\n",
    "plt.tight_layout()"
   ]
  },
  {
   "attachments": {
    "loss_figure.png": {
     "image/png": "[encoded data removed]"
    }
   },
   "cell_type": "markdown",
   "id": "9ef5896b",
   "metadata": {},
   "source": [
    "![loss_figure.png](attachment:loss_figure.png)"
   ]
  },
  {
   "cell_type": "markdown",
   "id": "420bccdb",
   "metadata": {},
   "source": [
    "## 7. 모델 테스트 및 Morphological filtering 적용하기"
   ]
  },
  {
   "cell_type": "code",
   "execution_count": 58,
   "id": "d5356a19",
   "metadata": {},
   "outputs": [],
   "source": [
    "def load_model(ckpt_path, num_classes, device):\n",
    "    checkpoint = torch.load(ckpt_path, map_location=device)\n",
    "    model = UNet(num_classes=num_classes)\n",
    "    model.load_state_dict(checkpoint)\n",
    "    model = model.to(device)\n",
    "    model.eval()\n",
    "    return model"
   ]
  },
  {
   "cell_type": "code",
   "execution_count": 60,
   "id": "f1e33ad6",
   "metadata": {},
   "outputs": [],
   "source": [
    "is_cuda = True\n",
    "\n",
    "NUM_CLASSES = 4\n",
    "IMAGE_SIZE = 224\n",
    "DEVICE = torch.device('cuda' if torch.cuda.is_available and is_cuda else 'cpu')"
   ]
  },
  {
   "cell_type": "code",
   "execution_count": 62,
   "id": "5482ac8e",
   "metadata": {},
   "outputs": [],
   "source": [
    "ckpt_path = \"./trained_model/model_05.pth\"\n",
    "model = load_model(ckpt_path, NUM_CLASSES, DEVICE)\n",
    "\n",
    "transformer = transforms.Compose([\n",
    "            transforms.Resize((IMAGE_SIZE, IMAGE_SIZE)),\n",
    "            transforms.ToTensor(),\n",
    "            transforms.Normalize([0.485, 0.456, 0.406], [0.229, 0.224, 0.225])]) ## Normailze는 train/test같아야 함"
   ]
  },
  {
   "cell_type": "code",
   "execution_count": 63,
   "id": "c4ec3bd5",
   "metadata": {},
   "outputs": [],
   "source": [
    "def morpholocal_process(mask, num_classes, ksize=7):\n",
    "    new_mask = mask.copy()\n",
    "    kernel = cv2.getStructuringElement(cv2.MORPH_RECT,(ksize, ksize))\n",
    "\n",
    "    for class_index in range(1, num_classes):\n",
    "        binary_mask = (mask == class_index).astype(np.uint8)\n",
    "        closing = cv2.morphologyEx(binary_mask, cv2.MORPH_CLOSE, kernel)\n",
    "        new_mask[closing.astype(np.bool_)] = class_index\n",
    "    return new_mask"
   ]
  },
  {
   "cell_type": "code",
   "execution_count": 64,
   "id": "305b2092",
   "metadata": {},
   "outputs": [],
   "source": [
    "from utils import CLASS_ID_TO_RGB"
   ]
  },
  {
   "cell_type": "code",
   "execution_count": 65,
   "id": "cff2438f",
   "metadata": {},
   "outputs": [],
   "source": [
    "def decode_segmap(mask, num_classes):\n",
    "    mask_H, mask_W = mask.shape\n",
    "    R_channel = np.zeros((mask_H, mask_W), dtype=np.uint8)\n",
    "    G_channel = np.zeros((mask_H, mask_W), dtype=np.uint8)\n",
    "    B_channel = np.zeros((mask_H, mask_W), dtype=np.uint8)\n",
    "\n",
    "    for class_index in range(1, num_classes):\n",
    "        R_channel[mask == class_index] = CLASS_ID_TO_RGB[class_index][0]\n",
    "        G_channel[mask == class_index] = CLASS_ID_TO_RGB[class_index][1]\n",
    "        B_channel[mask == class_index] = CLASS_ID_TO_RGB[class_index][2]\n",
    "    \n",
    "    RGB_mask = cv2.merge((B_channel, G_channel, R_channel))\n",
    "    return RGB_mask"
   ]
  },
  {
   "cell_type": "code",
   "execution_count": 72,
   "id": "f7528e44",
   "metadata": {},
   "outputs": [],
   "source": [
    "from PIL import Image"
   ]
  },
  {
   "cell_type": "code",
   "execution_count": 78,
   "id": "2249d57b",
   "metadata": {},
   "outputs": [],
   "source": [
    "@torch.no_grad()\n",
    "def predict_segment(image, model, num_classes, device):\n",
    "    PIL_image = Image.fromarray(image)\n",
    "    tensor_image = transformer(PIL_image)\n",
    "    tensor_image = tensor_image.to(device)\n",
    "\n",
    "    pred_mask = model(torch.unsqueeze(tensor_image, dim=0))\n",
    "    pred_mask = torch.argmax(pred_mask.squeeze(0).cpu(), dim=0)\n",
    "    pred_mask = pred_mask.numpy()\n",
    "    pred_mask = morpholocal_process(pred_mask, num_classes)\n",
    "    rgb_mask = decode_segmap(pred_mask, num_classes)\n",
    "    return rgb_mask"
   ]
  },
  {
   "cell_type": "code",
   "execution_count": 80,
   "id": "ea3894b1",
   "metadata": {},
   "outputs": [],
   "source": [
    "video_path = \"../DATASET/Segmentation/video/test/ID00411637202309374271828.mp4\"\n",
    "cnt = 0\n",
    "vidcap = cv2.VideoCapture(video_path)\n",
    "while (vidcap.isOpened()):\n",
    "    ret, frame = vidcap.read()\n",
    "\n",
    "    if ret:\n",
    "        rgb_mask = predict_segment(frame, model, NUM_CLASSES, DEVICE)\n",
    "        rgb_mask = cv2.resize(rgb_mask, dsize=frame.shape[:2])\n",
    "              \n",
    "        alpha = 0.6\n",
    "        blend = cv2.addWeighted(frame, alpha, rgb_mask, 1-alpha, 0)\n",
    "        cv2.imshow('output', blend)\n",
    "        \n",
    "        key = cv2.waitKey(1)\n",
    "        if key == 27:\n",
    "            break\n",
    "        if key == ord('s'):\n",
    "            cv2.waitKey(0)\n",
    "    else:\n",
    "        break\n",
    "        \n",
    "vidcap.release()\n",
    "cv2.destroyAllWindows()"
   ]
  },
  {
   "cell_type": "code",
   "execution_count": null,
   "id": "316c9b82",
   "metadata": {},
   "outputs": [],
   "source": []
  }
 ],
 "metadata": {
  "kernelspec": {
   "display_name": "Python 3.8.13 ('usePytorch')",
   "language": "python",
   "name": "python3"
  },
  "language_info": {
   "codemirror_mode": {
    "name": "ipython",
    "version": 3
   },
   "file_extension": ".py",
   "mimetype": "text/x-python",
   "name": "python",
   "nbconvert_exporter": "python",
   "pygments_lexer": "ipython3",
   "version": "3.8.13"
  },
  "vscode": {
   "interpreter": {
    "hash": "d67afed350c528055f2528b65dcee38560ce04848f0ceec4c78743b97b05f9fe"
   }
  }
 },
 "nbformat": 4,
 "nbformat_minor": 5
}
